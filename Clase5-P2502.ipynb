{
 "cells": [
  {
   "cell_type": "code",
   "execution_count": 1,
   "metadata": {},
   "outputs": [],
   "source": [
    "#Programa: ciclo_for2.ipynb \n",
    "#autor: miembros del grupo de trabajo\n",
    "#Objetivo del programa: segunda parte del Programa para entender funcionamiento del ciclo for\n",
    "#fecha de creación: "
   ]
  },
  {
   "cell_type": "code",
   "execution_count": 8,
   "metadata": {},
   "outputs": [
    {
     "name": "stdout",
     "output_type": "stream",
     "text": [
      "Hello Now i is 3 and its squared is 9\n",
      "Hello Now i is 4 and its squared is 16\n",
      "Hello Now i is 5 and its squared is 25\n",
      "Hello Now i is 100 and its squared is 10000\n"
     ]
    }
   ],
   "source": [
    "for i in [3, 4, 5,100]:\n",
    "    print(f\"Hello Now i is {i} and its squared is {i ** 2}\")"
   ]
  },
  {
   "cell_type": "code",
   "execution_count": 12,
   "metadata": {},
   "outputs": [
    {
     "name": "stdout",
     "output_type": "stream",
     "text": [
      "** 10\n",
      "0\n",
      "1\n",
      "2\n",
      "3\n",
      "4\n",
      "90\n"
     ]
    }
   ],
   "source": [
    "#definiendo un valor inicial\n",
    "i=10\n",
    "print('**',i)\n",
    "for i in [0, 1, 2, 3, 4,90]:\n",
    "    print(i)\n",
    "    \n",
    "#Cuidado al sobre escribir las variables"
   ]
  },
  {
   "cell_type": "code",
   "execution_count": 26,
   "metadata": {},
   "outputs": [
    {
     "name": "stdout",
     "output_type": "stream",
     "text": [
      "* 10\n",
      "La suma de los numeros del 1 al 4 es: 1 el valor de k es: 1\n",
      "La suma de los numeros del 1 al 4 es: 3 el valor de k es: 2\n",
      "La suma de los numeros del 1 al 4 es: 6 el valor de k es: 3\n",
      "La suma de los numeros del 1 al 4 es: 10 el valor de k es: 4\n",
      "** 10\n"
     ]
    }
   ],
   "source": [
    "#acumuladores: Variable acumula (guarda un resultado)\n",
    "l=[1, 2, 3, 4 ]\n",
    "print('*',sum(l))\n",
    "suma=0\n",
    "\n",
    "for k in l:\n",
    "    #print(k)\n",
    "    suma=suma+k\n",
    "    print('La suma de los numeros del 1 al 4 es:',suma,'el valor de k es:',k)\n",
    "\n",
    "print('**',suma)"
   ]
  },
  {
   "cell_type": "code",
   "execution_count": 33,
   "metadata": {},
   "outputs": [
    {
     "name": "stdout",
     "output_type": "stream",
     "text": [
      "La multiplicacion de los numeros del 1 al 4 es: 1\n",
      "La multiplicacion de los numeros del 1 al 4 es: 2\n",
      "La multiplicacion de los numeros del 1 al 4 es: 6\n",
      "La multiplicacion de los numeros del 1 al 4 es: 24\n"
     ]
    }
   ],
   "source": [
    "multiplicacion=1\n",
    "for k in l:\n",
    "    multiplicacion=multiplicacion*k\n",
    "    print('La multiplicacion de los numeros del 1 al 4 es:',multiplicacion)"
   ]
  },
  {
   "cell_type": "code",
   "execution_count": 37,
   "metadata": {},
   "outputs": [
    {
     "name": "stdout",
     "output_type": "stream",
     "text": [
      "La Division de los numeros del 1 al 4 es: 1.0\n",
      "La Division de los numeros del 1 al 4 es: 0.5\n",
      "La Division de los numeros del 1 al 4 es: 0.16666666666666666\n",
      "La Division de los numeros del 1 al 4 es: 0.041666666666666664\n"
     ]
    }
   ],
   "source": [
    "Division=1\n",
    "for k in l:\n",
    "    Division=Division/k\n",
    "    print('La Division de los numeros del 1 al 4 es:',Division)"
   ]
  },
  {
   "cell_type": "code",
   "execution_count": 38,
   "metadata": {},
   "outputs": [
    {
     "name": "stdout",
     "output_type": "stream",
     "text": [
      "el valor de 1 No es multiplo de 2\n",
      "El valor de 2 es multiplo de 2 y hay 1 multiplos de 2\n",
      "el valor de 3 No es multiplo de 2\n",
      "El valor de 4 es multiplo de 2 y hay 2 multiplos de 2\n",
      "Existe 2 multiplos de 2 en la lista\n"
     ]
    }
   ],
   "source": [
    "#Contadores: una variable que lleva la cuenta del número \n",
    "\n",
    "contador=0\n",
    "\n",
    "for t in range(1,5):\n",
    "    if t%2==0:\n",
    "        contador=contador+1\n",
    "        print('El valor de',t,'es multiplo de 2 y hay',contador,'multiplos de 2')\n",
    "    else:\n",
    "        print('el valor de',t,'No es multiplo de 2')\n",
    "        \n",
    "print('Existe',contador,'multiplos de 2 en la lista')   \n",
    "\n",
    "\n",
    "#Antes del bucle se debe dar un valor inicial al contador (en este caso, 0)\n",
    "#   En cada iteración, el programa comprueba si t es múltiplo de 2.\n",
    "#   El contador se modifica sólo si la variable de control t es múltiplo de 2.\n",
    "#   El contador va aumentando de uno en uno."
   ]
  },
  {
   "cell_type": "code",
   "execution_count": null,
   "metadata": {},
   "outputs": [],
   "source": []
  }
 ],
 "metadata": {
  "kernelspec": {
   "display_name": "Python 3",
   "language": "python",
   "name": "python3"
  },
  "language_info": {
   "codemirror_mode": {
    "name": "ipython",
    "version": 3
   },
   "file_extension": ".py",
   "mimetype": "text/x-python",
   "name": "python",
   "nbconvert_exporter": "python",
   "pygments_lexer": "ipython3",
   "version": "3.6.8"
  }
 },
 "nbformat": 4,
 "nbformat_minor": 4
}
