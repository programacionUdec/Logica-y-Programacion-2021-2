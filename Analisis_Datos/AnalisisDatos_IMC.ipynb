{
 "cells": [
  {
   "cell_type": "code",
   "execution_count": 1,
   "metadata": {},
   "outputs": [],
   "source": [
    "#plantilla"
   ]
  },
  {
   "cell_type": "code",
   "execution_count": 2,
   "metadata": {},
   "outputs": [],
   "source": [
    "import numpy as np\n",
    "import matplotlib.pyplot as plt"
   ]
  },
  {
   "cell_type": "code",
   "execution_count": 3,
   "metadata": {},
   "outputs": [],
   "source": [
    "datos=np.loadtxt('/Users/usuario-mac/Desktop/CLASES/2021-1/Programacion/semana15/Datos_Peso.dat')\n",
    "\n",
    "#print(datos)"
   ]
  },
  {
   "cell_type": "code",
   "execution_count": 4,
   "metadata": {},
   "outputs": [
    {
     "name": "stdout",
     "output_type": "stream",
     "text": [
      "184\n",
      "60.509239130434786 15.906345174564203\n",
      "13.0 106.0\n"
     ]
    }
   ],
   "source": [
    "#acceder a los datos necesarios\n",
    "\n",
    "peso=datos[:,0]\n",
    "altura=datos[:,1]\n",
    "genero=datos[:,2]\n",
    "edad=datos[:,3]\n",
    "\n",
    "print(len(peso))\n",
    "print(np.mean(peso),np.std(peso))\n",
    "print(np.min(peso),np.max(peso))"
   ]
  },
  {
   "cell_type": "code",
   "execution_count": 5,
   "metadata": {},
   "outputs": [
    {
     "data": {
      "text/plain": [
       "Text(0.5, 0, 'peso')"
      ]
     },
     "execution_count": 5,
     "metadata": {},
     "output_type": "execute_result"
    },
    {
     "data": {
      "image/png": "[encoded data removed]",
      "text/plain": [
       "<Figure size 432x288 with 1 Axes>"
      ]
     },
     "metadata": {
      "needs_background": "light"
     },
     "output_type": "display_data"
    }
   ],
   "source": [
    "plt.hist(peso)\n",
    "plt.xlabel('peso')"
   ]
  },
  {
   "cell_type": "code",
   "execution_count": 6,
   "metadata": {},
   "outputs": [
    {
     "name": "stdout",
     "output_type": "stream",
     "text": [
      "31.63586956521739 15.94123093769969\n"
     ]
    },
    {
     "data": {
      "image/png": "[encoded data removed]",
      "text/plain": [
       "<Figure size 432x288 with 1 Axes>"
      ]
     },
     "metadata": {
      "needs_background": "light"
     },
     "output_type": "display_data"
    }
   ],
   "source": [
    "plt.hist(edad)\n",
    "print(np.mean(edad),np.std(edad))"
   ]
  },
  {
   "cell_type": "code",
   "execution_count": 7,
   "metadata": {},
   "outputs": [
    {
     "name": "stdout",
     "output_type": "stream",
     "text": [
      "111 73\n"
     ]
    }
   ],
   "source": [
    "#discriminar mis datos por genero: mujeres=0, hombres=1\n",
    "mujeres0=genero==0\n",
    "hombre0=genero==1\n",
    "\n",
    "mujeres=genero[mujeres0]\n",
    "hombres=genero[hombre0]\n",
    "\n",
    "#print(mujeres0)\n",
    "print(len(mujeres),len(hombres))\n"
   ]
  },
  {
   "cell_type": "code",
   "execution_count": 8,
   "metadata": {},
   "outputs": [
    {
     "data": {
      "image/png": "[encoded data removed]",
      "text/plain": [
       "<Figure size 432x288 with 1 Axes>"
      ]
     },
     "metadata": {
      "needs_background": "light"
     },
     "output_type": "display_data"
    }
   ],
   "source": [
    "plt.hist(mujeres,label='Mujeres',color='r')\n",
    "plt.hist(hombres,label='Hombres',color='g')\n",
    "plt.legend()\n",
    "plt.savefig('./hist_genero.png')"
   ]
  },
  {
   "cell_type": "code",
   "execution_count": 9,
   "metadata": {},
   "outputs": [
    {
     "name": "stdout",
     "output_type": "stream",
     "text": [
      "56 128\n"
     ]
    }
   ],
   "source": [
    "#clasificar niños de adultos ya que el IMC para niños-adolecentes es diferente al de los adultos\n",
    "#niños-adolecentes=2-19 años\n",
    "\n",
    "ninos0=edad<=19 #definicion niños\n",
    "adultos0= edad>19\n",
    "\n",
    "ninos=edad[ninos0]\n",
    "adultos=edad[adultos0]\n",
    "\n",
    "print(len(ninos),len(adultos))"
   ]
  },
  {
   "cell_type": "code",
   "execution_count": 10,
   "metadata": {},
   "outputs": [
    {
     "name": "stdout",
     "output_type": "stream",
     "text": [
      "38 18\n"
     ]
    }
   ],
   "source": [
    "ninas0=(edad<=19) & (genero==0)\n",
    "ninas=ninas0[ninas0]\n",
    "ninosH0=(edad<=19) & (genero==1)\n",
    "ninosH=ninosH0[ninosH0]\n",
    "\n",
    "print(len(ninas),len(ninosH))"
   ]
  },
  {
   "cell_type": "code",
   "execution_count": 11,
   "metadata": {},
   "outputs": [
    {
     "name": "stdout",
     "output_type": "stream",
     "text": [
      "73 55\n"
     ]
    }
   ],
   "source": [
    "mujerA0=(edad>19) & (genero==0)\n",
    "mujerA=mujerA0[mujerA0]\n",
    "\n",
    "hombreA0=(edad>19) & (genero==1)\n",
    "hombreA=hombreA0[hombreA0]\n",
    "\n",
    "print(len(mujerA),len(hombreA))"
   ]
  },
  {
   "cell_type": "code",
   "execution_count": 12,
   "metadata": {},
   "outputs": [
    {
     "name": "stderr",
     "output_type": "stream",
     "text": [
      "/anaconda3/lib/python3.6/site-packages/numpy/lib/histograms.py:656: RuntimeWarning: Converting input from bool to <class 'numpy.uint8'> for compatibility.\n",
      "  a, weights = _ravel_and_check_weights(a, weights)\n",
      "/anaconda3/lib/python3.6/site-packages/numpy/lib/histograms.py:778: RuntimeWarning: Converting input from bool to <class 'numpy.uint8'> for compatibility.\n",
      "  a, weights = _ravel_and_check_weights(a, weights)\n"
     ]
    },
    {
     "data": {
      "text/plain": [
       "Text(0.5, 1.0, 'Histograma por edad y genero')"
      ]
     },
     "execution_count": 12,
     "metadata": {},
     "output_type": "execute_result"
    },
    {
     "data": {
      "image/png": "[encoded data removed]",
      "text/plain": [
       "<Figure size 432x288 with 1 Axes>"
      ]
     },
     "metadata": {
      "needs_background": "light"
     },
     "output_type": "display_data"
    }
   ],
   "source": [
    "plt.hist([mujerA,hombreA,ninas,ninosH],label=['Mujeres','Hombres','niñas','niños'])\n",
    "plt.legend()\n",
    "plt.xlim(1.0,1.2)\n",
    "plt.title('Histograma por edad y genero')"
   ]
  },
  {
   "cell_type": "code",
   "execution_count": 21,
   "metadata": {},
   "outputs": [
    {
     "name": "stdout",
     "output_type": "stream",
     "text": [
      "55\n",
      "36.654545454545456 12.396800440316236\n",
      "20.0 71.0\n",
      "72.81818181818181 10.465685764076651\n",
      "1.7116363636363636 0.06372565164583217\n",
      "24.882999488567474 3.6074027954022254\n"
     ]
    }
   ],
   "source": [
    "#IMC para mujeres y hombres (adultos)\n",
    "# hombre adulto: hombreA0\n",
    "#mujer adulta: mujerA0\n",
    "\n",
    "#1. Hombres, IMC=peso/altura^2\n",
    "\n",
    "pesoH=peso[hombreA0]\n",
    "alturaH=altura[hombreA0]\n",
    "edadH=edad[hombreA0]\n",
    "\n",
    "IMCH=pesoH/(alturaH)**2\n",
    "\n",
    "print(len(pesoH))\n",
    "print(np.mean(edadH),np.std(edadH))\n",
    "print(np.min(edadH),np.max(edadH))\n",
    "print(np.mean(pesoH),np.std(pesoH))\n",
    "print(np.mean(alturaH),np.std(alturaH))\n",
    "print(np.mean(IMCH),np.std(IMCH))"
   ]
  },
  {
   "cell_type": "code",
   "execution_count": 23,
   "metadata": {},
   "outputs": [
    {
     "name": "stdout",
     "output_type": "stream",
     "text": [
      "73\n",
      "40.43835616438356 14.28380278340956\n",
      "20.0 77.0\n",
      "59.92739726027397 9.495857211681841\n",
      "1.5857534246575342 0.06529003381580514\n",
      "23.81482742782564 3.429186132868591\n"
     ]
    }
   ],
   "source": [
    "#2. Mujeres \n",
    "\n",
    "pesoM=peso[mujerA0]\n",
    "alturaM=altura[mujerA0]\n",
    "edadM=edad[mujerA0]\n",
    "\n",
    "IMCM=pesoM/(alturaM)**2\n",
    "\n",
    "print(len(pesoM))\n",
    "print(np.mean(edadM),np.std(edadM))\n",
    "print(np.min(edadM),np.max(edadM))\n",
    "print(np.mean(pesoM),np.std(pesoM))\n",
    "print(np.mean(alturaM),np.std(alturaM))\n",
    "print(np.mean(IMCM),np.std(IMCM))"
   ]
  },
  {
   "cell_type": "code",
   "execution_count": 29,
   "metadata": {},
   "outputs": [
    {
     "name": "stdout",
     "output_type": "stream",
     "text": [
      "3\n",
      "ojo, adulto en desnutrición 3 [23. 23. 21.]\n",
      "Felicitaciones, buenos habitos de nutricion 26\n",
      "ojo, sobre peso detectado, hay que cuidarse 21\n",
      "ojo, Obesidad 3\n",
      "ojo, Obesidad Grave 0\n"
     ]
    }
   ],
   "source": [
    "#Clasificacion del IMC para hombres\n",
    "\n",
    "#Desnutricion\n",
    "desnutricionH= (IMCH<20)\n",
    "print(len(IMCH[desnutricionH]))\n",
    "print('ojo, adulto en desnutrición', len(IMCH[desnutricionH]),edadH[desnutricionH])\n",
    "\n",
    "#Normal\n",
    "normalH= (IMCH>=20) & (IMCH<=24.9)\n",
    "print('Felicitaciones, buenos habitos de nutricion', len(IMCH[normalH]))\n",
    "\n",
    "#Sobre Peso\n",
    "sobreP=(IMCH>=25) & (IMCH<=29.9)\n",
    "print('ojo, sobre peso detectado, hay que cuidarse', len(IMCH[sobreP]))\n",
    "\n",
    "#obesidad\n",
    "obesidad=(IMCH>=30) & (IMCH<=40)\n",
    "print('ojo, Obesidad', len(IMCH[obesidad]))\n",
    "\n",
    "#Obesidad Grave\n",
    "obesidad_G=(IMCH>40)\n",
    "print('ojo, Obesidad Grave', len(IMCH[obesidad_G]))"
   ]
  },
  {
   "cell_type": "code",
   "execution_count": 33,
   "metadata": {},
   "outputs": [
    {
     "name": "stdout",
     "output_type": "stream",
     "text": [
      "ojo, adulto Mujer en desnutrición 5 [21. 75. 24. 20. 20.]\n",
      "Felicitaciones, buenos habitos de nutricion 37\n",
      "ojo, sobre peso detectado, hay que cuidarse 18\n",
      "ojo, Obesidad 10\n",
      "ojo, Obesidad Grave 3\n"
     ]
    }
   ],
   "source": [
    "#IMC Mujeres\n",
    "\n",
    "#Desnutricion\n",
    "desnutricionM= (IMCM<19)\n",
    "print('ojo, adulto Mujer en desnutrición', len(IMCM[desnutricionM]),edadM[desnutricionM])\n",
    "\n",
    "#Normal\n",
    "normalM= (IMCM>=19) & (IMCM<=23.9)\n",
    "print('Felicitaciones, buenos habitos de nutricion', len(IMCM[normalM]))\n",
    "\n",
    "#sobre peso\n",
    "sobreP_M=(IMCM>=24) & (IMCM<=27)\n",
    "print('ojo, sobre peso detectado, hay que cuidarse', len(IMCM[sobreP_M]))\n",
    "\n",
    "#obesidad\n",
    "obesidadM=(IMCM>=27) & (IMCM<=32)\n",
    "print('ojo, Obesidad', len(IMCM[obesidadM]))\n",
    "\n",
    "#obesidad Grave\n",
    "obesidad_GM=(IMCM>32)\n",
    "print('ojo, Obesidad Grave', len(IMCM[obesidad_GM]))"
   ]
  },
  {
   "cell_type": "code",
   "execution_count": 58,
   "metadata": {},
   "outputs": [
    {
     "data": {
      "text/plain": [
       "Text(0, 0.5, 'IMC de mujeres')"
      ]
     },
     "execution_count": 58,
     "metadata": {},
     "output_type": "execute_result"
    },
    {
     "data": {
      "image/png": "[encoded data removed]",
      "text/plain": [
       "<Figure size 432x288 with 1 Axes>"
      ]
     },
     "metadata": {
      "needs_background": "light"
     },
     "output_type": "display_data"
    }
   ],
   "source": [
    "#grafica de genero vs IMC\n",
    "#1. Mujeres, edad vs IMC\n",
    "\n",
    "plt.scatter(edadM,IMCM,marker='*',alpha=0.5)\n",
    "plt.grid()\n",
    "plt.axhline(y=19,color='r',linestyle='-',label='Desnutricion')\n",
    "plt.axhline(y=23.9,color='b', linestyle='-',label='normal')\n",
    "plt.axhline(y=27,color='y', linestyle='-',label='Sobre Peso')\n",
    "plt.axhline(y=32,color='g', linestyle='-',label='Obesidad')\n",
    "plt.legend()\n",
    "plt.xlabel('edad de mujeres')\n",
    "plt.ylabel('IMC de mujeres')"
   ]
  },
  {
   "cell_type": "code",
   "execution_count": 59,
   "metadata": {},
   "outputs": [
    {
     "data": {
      "text/plain": [
       "Text(0, 0.5, 'IMC de Hombres')"
      ]
     },
     "execution_count": 59,
     "metadata": {},
     "output_type": "execute_result"
    },
    {
     "data": {
      "image/png": "[encoded data removed]",
      "text/plain": [
       "<Figure size 432x288 with 1 Axes>"
      ]
     },
     "metadata": {
      "needs_background": "light"
     },
     "output_type": "display_data"
    }
   ],
   "source": [
    "#grafica de genero vs IMC\n",
    "#2. Hombres, edad vs IMC\n",
    "\n",
    "plt.scatter(edadH,IMCH,marker='o',alpha=0.5)\n",
    "plt.grid()\n",
    "plt.axhline(y=20,color='r',linestyle='-',label='Desnutricion')\n",
    "plt.axhline(y=24.9,color='b', linestyle='-',label='normal')\n",
    "plt.axhline(y=29.9,color='y', linestyle='-',label='Sobre Peso')\n",
    "plt.axhline(y=40,color='g', linestyle='-',label='Obesidad')\n",
    "plt.legend()\n",
    "plt.xlabel('edad de Hombres')\n",
    "plt.ylabel('IMC de Hombres')"
   ]
  },
  {
   "cell_type": "code",
   "execution_count": 67,
   "metadata": {},
   "outputs": [
    {
     "data": {
      "text/plain": [
       "Text(0.5, 0, 'edad de Mujeres')"
      ]
     },
     "execution_count": 67,
     "metadata": {},
     "output_type": "execute_result"
    },
    {
     "data": {
      "image/png": "[encoded data removed]",
      "text/plain": [
       "<Figure size 432x288 with 2 Axes>"
      ]
     },
     "metadata": {
      "needs_background": "light"
     },
     "output_type": "display_data"
    }
   ],
   "source": [
    "fig, (ax1, ax2) = plt.subplots(1, 2)\n",
    "\n",
    "ax1.scatter(edadH,IMCH,marker='o',alpha=0.5)\n",
    "ax1.grid()\n",
    "ax1.axhline(y=20,color='r',linestyle='-',label='Desnutricion')\n",
    "ax1.axhline(y=24.9,color='b', linestyle='-',label='normal')\n",
    "ax1.axhline(y=29.9,color='y', linestyle='-',label='Sobre Peso')\n",
    "ax1.axhline(y=40,color='g', linestyle='-',label='Obesidad')\n",
    "#ax1.legend()\n",
    "ax1.set_title('IMC para Hombres adultos')\n",
    "ax1.set_xlabel('edad de Hombres')\n",
    "ax1.set_ylabel('IMC')\n",
    "\n",
    "\n",
    "ax2.scatter(edadM,IMCM,marker='*',alpha=0.5)\n",
    "ax2.grid()\n",
    "ax2.axhline(y=19,color='r',linestyle='-',label='Desnutricion')\n",
    "ax2.axhline(y=23.9,color='b', linestyle='-',label='normal')\n",
    "ax2.axhline(y=27,color='y', linestyle='-',label='Sobre Peso')\n",
    "ax2.axhline(y=32,color='g', linestyle='-',label='Obesidad')\n",
    "ax2.legend()\n",
    "ax2.set_title('IMC para Mujeres adultos')\n",
    "ax2.set_xlabel('edad de Mujeres')\n",
    "\n"
   ]
  },
  {
   "cell_type": "code",
   "execution_count": null,
   "metadata": {},
   "outputs": [],
   "source": []
  }
 ],
 "metadata": {
  "kernelspec": {
   "display_name": "Python 3",
   "language": "python",
   "name": "python3"
  },
  "language_info": {
   "codemirror_mode": {
    "name": "ipython",
    "version": 3
   },
   "file_extension": ".py",
   "mimetype": "text/x-python",
   "name": "python",
   "nbconvert_exporter": "python",
   "pygments_lexer": "ipython3",
   "version": "3.6.8"
  }
 },
 "nbformat": 4,
 "nbformat_minor": 4
}
