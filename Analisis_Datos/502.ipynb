{
 "cells": [
  {
   "cell_type": "code",
   "execution_count": 1,
   "metadata": {},
   "outputs": [],
   "source": [
    "#plantilla"
   ]
  },
  {
   "cell_type": "code",
   "execution_count": 2,
   "metadata": {},
   "outputs": [],
   "source": [
    "import numpy as np\n",
    "import matplotlib.pyplot as plt"
   ]
  },
  {
   "cell_type": "code",
   "execution_count": 22,
   "metadata": {},
   "outputs": [],
   "source": [
    "datos=np.loadtxt('/Users/usuario-mac/Desktop/CLASES/2021-2/Logica/Codigos_Clase/Analisis_Datos/datosIMC.txt')\n",
    "\n",
    "#print(datos)"
   ]
  },
  {
   "cell_type": "code",
   "execution_count": 95,
   "metadata": {},
   "outputs": [
    {
     "name": "stdout",
     "output_type": "stream",
     "text": [
      "185\n",
      "13.0 106.0 15.92112897979394 60.609189189189195\n",
      "1.09 103.0\n"
     ]
    }
   ],
   "source": [
    "#acceder a las columnas de datos\n",
    "\n",
    "\n",
    "peso=datos[:,0]\n",
    "altura=datos[:,1]\n",
    "genero=np.int_(datos[:,2])\n",
    "edad=np.int_(datos[:,3])\n",
    "ID=np.arange(0,len(peso))\n",
    "\n",
    "print(len(genero))\n",
    "print(np.min(peso),np.max(peso),np.std(peso),np.mean(peso))\n",
    "print(np.min(altura),np.max(altura))"
   ]
  },
  {
   "cell_type": "code",
   "execution_count": 5,
   "metadata": {},
   "outputs": [
    {
     "data": {
      "text/plain": [
       "Text(0.5, 0, 'peso (kg)')"
      ]
     },
     "execution_count": 5,
     "metadata": {},
     "output_type": "execute_result"
    },
    {
     "data": {
      "image/png": "[encoded data removed]",
      "text/plain": [
       "<Figure size 432x288 with 1 Axes>"
      ]
     },
     "metadata": {
      "needs_background": "light"
     },
     "output_type": "display_data"
    }
   ],
   "source": [
    "plt.hist(peso)\n",
    "plt.xlabel('peso (kg)')"
   ]
  },
  {
   "cell_type": "code",
   "execution_count": 6,
   "metadata": {},
   "outputs": [
    {
     "data": {
      "text/plain": [
       "Text(0.5, 0, 'Edad (años)')"
      ]
     },
     "execution_count": 6,
     "metadata": {},
     "output_type": "execute_result"
    },
    {
     "data": {
      "image/png": "[encoded data removed]",
      "text/plain": [
       "<Figure size 432x288 with 1 Axes>"
      ]
     },
     "metadata": {
      "needs_background": "light"
     },
     "output_type": "display_data"
    }
   ],
   "source": [
    "plt.hist(edad)\n",
    "plt.xlabel('Edad (años)')"
   ]
  },
  {
   "cell_type": "code",
   "execution_count": 7,
   "metadata": {},
   "outputs": [
    {
     "name": "stdout",
     "output_type": "stream",
     "text": [
      "111\n",
      "74\n"
     ]
    }
   ],
   "source": [
    "#discriminar mis datos por genero: mujeres=0, hombres=1\n",
    "mujeres0=genero==0\n",
    "hombre0=genero==1\n",
    "\n",
    "mujeres=genero[mujeres0]\n",
    "hombres=genero[hombre0]\n",
    "\n",
    "\n",
    "print(len(mujeres))\n",
    "print(len(hombres))"
   ]
  },
  {
   "cell_type": "code",
   "execution_count": 8,
   "metadata": {},
   "outputs": [
    {
     "data": {
      "image/png": "[encoded data removed]",
      "text/plain": [
       "<Figure size 432x288 with 1 Axes>"
      ]
     },
     "metadata": {
      "needs_background": "light"
     },
     "output_type": "display_data"
    }
   ],
   "source": [
    "plt.hist(mujeres,label='mujeres',color='b')\n",
    "plt.hist(hombres,label='hombres',color='g')\n",
    "plt.legend()\n",
    "plt.savefig('./figura_genero.png')"
   ]
  },
  {
   "cell_type": "code",
   "execution_count": 12,
   "metadata": {},
   "outputs": [
    {
     "name": "stdout",
     "output_type": "stream",
     "text": [
      "56\n"
     ]
    }
   ],
   "source": [
    "#clasificar niños de adultos ya que el IMC para niños-adolecentes es diferente al de los adultos\n",
    "#niños-adolecentes=2-19 años\n",
    "\n",
    "ninos0=edad<=19\n",
    "adultos0=edad>19\n",
    "\n",
    "ninos=edad[ninos0]\n",
    "adultos=edad[adultos0]\n",
    "\n",
    "print(len(ninos))"
   ]
  },
  {
   "cell_type": "code",
   "execution_count": 10,
   "metadata": {},
   "outputs": [
    {
     "data": {
      "text/plain": [
       "<matplotlib.legend.Legend at 0x1122caf28>"
      ]
     },
     "execution_count": 10,
     "metadata": {},
     "output_type": "execute_result"
    },
    {
     "data": {
      "image/png": "[encoded data removed]",
      "text/plain": [
       "<Figure size 432x288 with 1 Axes>"
      ]
     },
     "metadata": {
      "needs_background": "light"
     },
     "output_type": "display_data"
    }
   ],
   "source": [
    "plt.hist(len(ninos),label='niños',color='b')\n",
    "plt.hist(len(adultos),label='adultos',color='g')\n",
    "plt.legend()"
   ]
  },
  {
   "cell_type": "code",
   "execution_count": 13,
   "metadata": {},
   "outputs": [
    {
     "name": "stdout",
     "output_type": "stream",
     "text": [
      "38 18\n"
     ]
    }
   ],
   "source": [
    "ninas0=(edad<=19) & (genero==0)\n",
    "ninas=ninas0[ninas0]\n",
    "\n",
    "ninos0=(edad<=19) & (genero==1)\n",
    "ninosH=ninos0[ninos0]\n",
    "\n",
    "print(len(ninas),len(ninosH))"
   ]
  },
  {
   "cell_type": "code",
   "execution_count": 16,
   "metadata": {},
   "outputs": [
    {
     "name": "stdout",
     "output_type": "stream",
     "text": [
      "73 56\n"
     ]
    }
   ],
   "source": [
    "mujerA0=(edad>19) & (genero==0)\n",
    "mujerA=mujerA0[mujerA0]\n",
    "\n",
    "hombreA0=(edad>19) & (genero==1)\n",
    "hombreA=hombreA0[hombreA0]\n",
    "\n",
    "print(len(mujerA),len(hombreA))"
   ]
  },
  {
   "cell_type": "code",
   "execution_count": 20,
   "metadata": {},
   "outputs": [
    {
     "data": {
      "text/plain": [
       "Text(0.5, 1.0, 'Histograma por edad y genero')"
      ]
     },
     "execution_count": 20,
     "metadata": {},
     "output_type": "execute_result"
    },
    {
     "data": {
      "image/png": "[encoded data removed]",
      "text/plain": [
       "<Figure size 432x288 with 1 Axes>"
      ]
     },
     "metadata": {
      "needs_background": "light"
     },
     "output_type": "display_data"
    }
   ],
   "source": [
    "plt.hist([mujerA,hombreA,ninas,ninosH],label= ['mujeres','hombres','niñas','niños'])\n",
    "plt.legend()\n",
    "plt.xlim(1.0,1.2)\n",
    "plt.title('Histograma por edad y genero')"
   ]
  },
  {
   "cell_type": "code",
   "execution_count": 37,
   "metadata": {},
   "outputs": [
    {
     "name": "stdout",
     "output_type": "stream",
     "text": [
      "36.535714285714285 12.317183533749981\n",
      "20 71\n",
      "72.92857142857143 10.404080832018929\n",
      "1.7108928571428572 0.06339436617922219\n",
      "24.944492004346444 3.6040181343323368\n"
     ]
    }
   ],
   "source": [
    "#IMC para mujeres y hombres (adultos)\n",
    "# hombre adulto: hombreA0\n",
    "#mujer adulta: mujerA0\n",
    "\n",
    "#1. Hombres, IMC=peso/altura^2\n",
    "\n",
    "IDH=ID[hombreA0]\n",
    "pesoH=peso[hombreA0]\n",
    "alturaH=altura[hombreA0]\n",
    "edadH=edad[hombreA0]\n",
    "\n",
    "\n",
    "#print(pesoH)\n",
    "#print(alturaH)\n",
    "#print(edadH)\n",
    "#print(IDH)\n",
    "\n",
    "\n",
    "IMCH=pesoH/(alturaH)**2\n",
    "\n",
    "#print(IMCH)\n",
    "print(np.mean(edadH),np.std(edadH))\n",
    "print(np.min(edadH),np.max(edadH))\n",
    "print(np.mean(pesoH),np.std(pesoH))\n",
    "print(np.mean(alturaH),np.std(alturaH))\n",
    "print(np.mean(IMCH),np.std(IMCH))"
   ]
  },
  {
   "cell_type": "code",
   "execution_count": 49,
   "metadata": {},
   "outputs": [
    {
     "name": "stdout",
     "output_type": "stream",
     "text": [
      "3 [ 48 123 174]\n",
      "ojo, adulto en desnutrición 3 [23 23 21]\n",
      "26\n",
      "Felicitaciones, buenos habitos de nutricion 26\n",
      "ojo, sobre peso detectado, hay que cuidarse 22\n",
      "ojo, Obesidad 3 [39.41106484 32.52595156 32.32323232]\n",
      "ojo, Obesidad Grave 0\n"
     ]
    }
   ],
   "source": [
    "#Clasificacion del IMC para hombres\n",
    "\n",
    "#Desnutricion\n",
    "\n",
    "desnutricionH= (IMCH<20)\n",
    "print(len(IMCH[desnutricionH]), IDH[desnutricionH])\n",
    "print('ojo, adulto en desnutrición', len(IMCH[desnutricionH]),edadH[desnutricionH])\n",
    "\n",
    "#Normal\n",
    "normalH= (IMCH>=20) & (IMCH<=24.9)\n",
    "print(len(IMCH[normalH]))\n",
    "print('Felicitaciones, buenos habitos de nutricion', len(IMCH[normalH]))\n",
    "\n",
    "#Sobre Peso\n",
    "sobreP=(IMCH>=25) & (IMCH<=29.9)\n",
    "print('ojo, sobre peso detectado, hay que cuidarse', len(IMCH[sobreP]))\n",
    "\n",
    "#obesidad\n",
    "obesidad=(IMCH>=30) & (IMCH<=40)\n",
    "print('ojo, Obesidad', len(IMCH[obesidad]),IMCH[obesidad])\n",
    "\n",
    "#Obesidad Grave\n",
    "obesidad_G=(IMCH>40)\n",
    "print('ojo, Obesidad Grave', len(IMCH[obesidad_G]),)"
   ]
  },
  {
   "cell_type": "code",
   "execution_count": 68,
   "metadata": {},
   "outputs": [
    {
     "data": {
      "text/plain": [
       "Text(0, 0.5, 'IMC Hombres Adultos')"
      ]
     },
     "execution_count": 68,
     "metadata": {},
     "output_type": "execute_result"
    },
    {
     "data": {
      "image/png": "[encoded data removed]",
      "text/plain": [
       "<Figure size 432x288 with 1 Axes>"
      ]
     },
     "metadata": {
      "needs_background": "light"
     },
     "output_type": "display_data"
    }
   ],
   "source": [
    "#graifica IMC para hombres\n",
    "plt.scatter(edadH,IMCH,marker='o',alpha=0.5)\n",
    "plt.grid()\n",
    "plt.axhline(y=20,color='r',linestyle='-',label='desnutrición')\n",
    "plt.axhline(y=24.9,color='b', linestyle='-',label='normal')\n",
    "plt.axhline(y=29.9,color='y', linestyle='-',label='Sobre Peso')\n",
    "plt.axhline(y=40,color='g', linestyle='-',label='Obesidad')\n",
    "plt.legend()\n",
    "plt.xlabel('Edad')\n",
    "plt.ylabel('IMC Hombres Adultos')"
   ]
  },
  {
   "cell_type": "code",
   "execution_count": 73,
   "metadata": {},
   "outputs": [
    {
     "name": "stdout",
     "output_type": "stream",
     "text": [
      "40.43835616438356 14.28380278340956\n",
      "20 77\n",
      "59.92739726027397 9.495857211681841\n",
      "1.5857534246575342 0.06529003381580514\n",
      "23.81482742782564 3.429186132868591\n"
     ]
    }
   ],
   "source": [
    "#Clasificacion del IMC para mujeres\n",
    "#mujer adulta: mujerA0\n",
    "\n",
    "pesoM=peso[mujerA0]\n",
    "alturaM=altura[mujerA0]\n",
    "edadM=edad[mujerA0]\n",
    "IDM=ID[mujerA0]\n",
    "\n",
    "IMCM=pesoM/(alturaM)**2\n",
    "\n",
    "#print(IDM)\n",
    "#print(pesoM)\n",
    "\n",
    "print(np.mean(edadM),np.std(edadM))\n",
    "print(np.min(edadM),np.max(edadM))\n",
    "print(np.mean(pesoM),np.std(pesoM))\n",
    "print(np.mean(alturaM),np.std(alturaM))\n",
    "print(np.mean(IMCM),np.std(IMCM))"
   ]
  },
  {
   "cell_type": "code",
   "execution_count": 80,
   "metadata": {},
   "outputs": [
    {
     "name": "stdout",
     "output_type": "stream",
     "text": [
      "5\n",
      "[21 75 24 20 20]\n",
      "ojo, adulto Mujer en desnutrición 5 [21 75 24 20 20]\n",
      "Felicitaciones, buenos habitos de nutricion 37\n",
      "ojo, sobre peso detectado, hay que cuidarse 18\n",
      "ojo, Obesidad 10\n",
      "ojo, Obesidad Grave 3\n"
     ]
    }
   ],
   "source": [
    "#IMC Mujeres\n",
    "\n",
    "#Desnutricion\n",
    "\n",
    "desnutricionM= (IMCM<19)\n",
    "print(len(IMCM[desnutricionM]))\n",
    "print(edadM[desnutricionM])\n",
    "print('ojo, adulto Mujer en desnutrición', len(IMCM[desnutricionM]),edadM[desnutricionM])\n",
    "\n",
    "#Normal\n",
    "normalM= (IMCM>=19) & (IMCM<=23.9)\n",
    "print('Felicitaciones, buenos habitos de nutricion', len(IMCM[normalM]))\n",
    "\n",
    "#sobre peso\n",
    "sobreP_M=(IMCM>=24) & (IMCM<=27)\n",
    "print('ojo, sobre peso detectado, hay que cuidarse', len(IMCM[sobreP_M]))\n",
    "\n",
    "#obesidad\n",
    "obesidadM=(IMCM>=27) & (IMCM<=32)\n",
    "print('ojo, Obesidad', len(IMCM[obesidadM]))\n",
    "\n",
    "#obesidad Grave\n",
    "obesidad_GM=(IMCM>32)\n",
    "print('ojo, Obesidad Grave', len(IMCM[obesidad_GM]))"
   ]
  },
  {
   "cell_type": "code",
   "execution_count": 84,
   "metadata": {},
   "outputs": [
    {
     "data": {
      "text/plain": [
       "Text(0, 0.5, 'IMC Mujeres Adultas')"
      ]
     },
     "execution_count": 84,
     "metadata": {},
     "output_type": "execute_result"
    },
    {
     "data": {
      "image/png": "[encoded data removed]",
      "text/plain": [
       "<Figure size 432x288 with 1 Axes>"
      ]
     },
     "metadata": {
      "needs_background": "light"
     },
     "output_type": "display_data"
    }
   ],
   "source": [
    "#graifica IMC para Mujeres\n",
    "plt.scatter(edadM,IMCM,marker='*',alpha=0.5)\n",
    "plt.grid()\n",
    "plt.axhline(y=19,color='r',linestyle='-',label='desnutrición')\n",
    "plt.axhline(y=23.9,color='b', linestyle='-',label='normal')\n",
    "plt.axhline(y=27,color='y', linestyle='-',label='Sobre Peso')\n",
    "plt.axhline(y=32,color='g', linestyle='-',label='Obesidad')\n",
    "plt.legend()\n",
    "plt.xlabel('Edad')\n",
    "plt.ylabel('IMC Mujeres Adultas')"
   ]
  },
  {
   "cell_type": "code",
   "execution_count": 92,
   "metadata": {},
   "outputs": [
    {
     "data": {
      "image/png": "[encoded data removed]",
      "text/plain": [
       "<Figure size 432x288 with 2 Axes>"
      ]
     },
     "metadata": {
      "needs_background": "light"
     },
     "output_type": "display_data"
    }
   ],
   "source": [
    "fig, (ax1, ax2) = plt.subplots(1, 2)\n",
    "\n",
    "ax1.scatter(edadH,IMCH,marker='o',alpha=0.5)\n",
    "ax1.grid()\n",
    "ax1.axhline(y=20,color='r',linestyle='-',label='desnutrición')\n",
    "ax1.axhline(y=24.9,color='b', linestyle='-',label='normal')\n",
    "ax1.axhline(y=29.9,color='y', linestyle='-',label='Sobre Peso')\n",
    "ax1.axhline(y=40,color='g', linestyle='-',label='Obesidad')\n",
    "ax1.legend()\n",
    "ax1.set_xlabel('Edad')\n",
    "ax1.set_ylabel('IMC Hombres Adultos')\n",
    "\n",
    "\n",
    "\n",
    "\n",
    "ax2.scatter(edadM,IMCM,marker='*',alpha=0.5,c='g')\n",
    "ax2.grid()\n",
    "ax2.axhline(y=19,color='r',linestyle='-',label='desnutrición')\n",
    "ax2.axhline(y=23.9,color='b', linestyle='-',label='normal')\n",
    "ax2.axhline(y=27,color='y', linestyle='-',label='Sobre Peso')\n",
    "ax2.axhline(y=32,color='g', linestyle='-',label='Obesidad')\n",
    "ax2.legend()\n",
    "ax2.set_xlabel('Edad')\n",
    "ax2.set_ylabel('IMC Mujeres Adultas')\n",
    "\n",
    "plt.savefig('./newfig.pdf')"
   ]
  },
  {
   "cell_type": "code",
   "execution_count": null,
   "metadata": {},
   "outputs": [],
   "source": []
  }
 ],
 "metadata": {
  "kernelspec": {
   "display_name": "Python 3",
   "language": "python",
   "name": "python3"
  },
  "language_info": {
   "codemirror_mode": {
    "name": "ipython",
    "version": 3
   },
   "file_extension": ".py",
   "mimetype": "text/x-python",
   "name": "python",
   "nbconvert_exporter": "python",
   "pygments_lexer": "ipython3",
   "version": "3.6.8"
  }
 },
 "nbformat": 4,
 "nbformat_minor": 4
}
