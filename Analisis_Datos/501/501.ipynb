{
 "cells": [
  {
   "cell_type": "code",
   "execution_count": 1,
   "metadata": {},
   "outputs": [],
   "source": [
    "import numpy as np\n",
    "import matplotlib.pyplot as plt"
   ]
  },
  {
   "cell_type": "code",
   "execution_count": 2,
   "metadata": {},
   "outputs": [],
   "source": [
    "data=np.loadtxt('/Users/usuario-mac/Desktop/CLASES/2021-2/Logica/Codigos_Clase/Analisis_Datos/501/datosIMC.txt')\n",
    "\n",
    "#print(data)"
   ]
  },
  {
   "cell_type": "code",
   "execution_count": 6,
   "metadata": {},
   "outputs": [
    {
     "name": "stdout",
     "output_type": "stream",
     "text": [
      "[1 1 0 0 1 1 0 1 1 0 0 0 0 1 1 0 1 0 0 0 0 0 1 0 1 1 0 0 1 1 1 0 0 1 1 0 1\n",
      " 0 1 0 1 0 1 0 0 0 0 1 1 0 1 0 1 0 0 0 0 0 0 0 1 1 0 0 1 1 1 1 0 1 1 0 0 0\n",
      " 1 0 1 0 1 1 0 0 0 0 0 0 0 1 0 0 1 0 1 1 0 0 1 1 0 0 0 0 0 1 1 0 0 0 1 0 1\n",
      " 0 1 0 1 0 1 0 0 1 0 0 1 1 0 1 0 0 0 0 1 0 0 0 0 1 0 1 0 0 0 0 0 1 0 1 1 0\n",
      " 1 0 0 1 0 0 0 0 1 1 0 0 0 1 1 1 0 1 0 0 0 1 1 0 1 0 1 0 1 0 0 0 0 0 1 0 0]\n"
     ]
    }
   ],
   "source": [
    "peso=data[:,0]\n",
    "altura=data[:,1]\n",
    "genero=np.int_(data[:,2])\n",
    "edad=np.int_(data[:,3])\n",
    "ID=np.arange(0,len(genero))\n",
    "\n",
    "#print(len(edad))\n",
    "#print(len(ID),ID)\n",
    "print(genero)"
   ]
  },
  {
   "cell_type": "code",
   "execution_count": 4,
   "metadata": {},
   "outputs": [
    {
     "name": "stdout",
     "output_type": "stream",
     "text": [
      "60.609189189189195 15.92112897979394\n",
      "3.108756756756757 11.695055877073\n",
      "1.09 103.0\n"
     ]
    }
   ],
   "source": [
    "print(np.mean(peso),np.std(peso))\n",
    "print(np.mean(altura),np.std(altura))\n",
    "print(min(altura),max(altura))"
   ]
  },
  {
   "cell_type": "code",
   "execution_count": 13,
   "metadata": {},
   "outputs": [
    {
     "name": "stdout",
     "output_type": "stream",
     "text": [
      "[0 0 0 0 0 0 0 0 0 0 0 0 0 0 0 0 0 0 0 0 0 0 0 0 0 0 0 0 0 0 0 0 0 0 0 0 0\n",
      " 0 0 0 0 0 0 0 0 0 0 0 0 0 0 0 0 0 0 0 0 0 0 0 0 0 0 0 0 0 0 0 0 0 0 0 0 0\n",
      " 0 0 0 0 0 0 0 0 0 0 0 0 0 0 0 0 0 0 0 0 0 0 0 0 0 0 0 0 0 0 0 0 0 0 0 0 0]\n",
      "[  0   1   4   5   7   8  13  14  16  22  24  25  28  29  30  33  34  36\n",
      "  38  40  42  47  48  50  52  60  61  64  65  66  67  69  70  74  76  78\n",
      "  79  87  90  92  93  96  97 103 104 108 110 112 114 116 119 122 123 125\n",
      " 130 135 137 143 145 146 148 151 156 157 161 162 163 165 169 170 172 174\n",
      " 176 182]\n"
     ]
    }
   ],
   "source": [
    "mujeres0= genero==0\n",
    "hombres0=genero==1\n",
    "\n",
    "mujeres=genero[mujeres0]\n",
    "hombres=genero[hombres0]\n",
    "print(mujeres)\n",
    "print(ID[hombres0])"
   ]
  },
  {
   "cell_type": "code",
   "execution_count": 18,
   "metadata": {},
   "outputs": [
    {
     "data": {
      "image/png": "[encoded data removed]",
      "text/plain": [
       "<Figure size 432x288 with 1 Axes>"
      ]
     },
     "metadata": {
      "needs_background": "light"
     },
     "output_type": "display_data"
    }
   ],
   "source": [
    "plt.hist(mujeres,label='Mujeres')\n",
    "plt.hist(hombres,label='Hombres')\n",
    "plt.legend()\n",
    "plt.savefig('./figura1.png')"
   ]
  },
  {
   "cell_type": "code",
   "execution_count": 20,
   "metadata": {},
   "outputs": [
    {
     "name": "stdout",
     "output_type": "stream",
     "text": [
      "129 56\n"
     ]
    }
   ],
   "source": [
    "#clasificar niños de adultos ya que el IMC para niños-adolecentes es diferente al de los adultos\n",
    "#niños-adolecentes=2-19 años\n",
    "\n",
    "ninos0=edad<=19\n",
    "adultos0=edad > 19\n",
    "\n",
    "adultos=edad[adultos0]\n",
    "ninos=edad[ninos0]\n",
    "\n",
    "\n",
    "print(len(adultos),len(ninos))"
   ]
  },
  {
   "cell_type": "code",
   "execution_count": 26,
   "metadata": {},
   "outputs": [
    {
     "name": "stdout",
     "output_type": "stream",
     "text": [
      "38 18\n"
     ]
    }
   ],
   "source": [
    "#discriminar entre hombres, mujeres, niños, niñas\n",
    "\n",
    "ninas0=(edad<=19) & (genero==0)\n",
    "ninas=ninas0[ninas0]\n",
    "\n",
    "ninos0=(edad<=19) & (genero==1)\n",
    "ninosH=ninos0[ninos0]\n",
    "\n",
    "print(len(ninas),len(ninosH))"
   ]
  },
  {
   "cell_type": "code",
   "execution_count": 31,
   "metadata": {},
   "outputs": [
    {
     "name": "stdout",
     "output_type": "stream",
     "text": [
      "73 56\n"
     ]
    }
   ],
   "source": [
    "mujereA0=(edad > 19) & (genero==0)\n",
    "mujerA=mujereA0[mujereA0]\n",
    "\n",
    "\n",
    "hombreA0=(edad > 19) & (genero==1)\n",
    "hombreA=hombreA0[hombreA0]\n",
    "\n",
    "print(len(mujerA),len(hombreA))"
   ]
  },
  {
   "cell_type": "code",
   "execution_count": 36,
   "metadata": {},
   "outputs": [
    {
     "data": {
      "image/png": "[encoded data removed]",
      "text/plain": [
       "<Figure size 432x288 with 1 Axes>"
      ]
     },
     "metadata": {
      "needs_background": "light"
     },
     "output_type": "display_data"
    }
   ],
   "source": [
    "plt.hist([mujerA,hombreA,ninas,ninosH],label=['mujeres','hombres','niñas','niños'] )\n",
    "plt.xlim(1.0,1.2)\n",
    "plt.legend()\n",
    "plt.savefig('histo2.pdf')"
   ]
  },
  {
   "cell_type": "code",
   "execution_count": 52,
   "metadata": {},
   "outputs": [
    {
     "name": "stdout",
     "output_type": "stream",
     "text": [
      "72.92857142857143 10.404080832018929\n",
      "1.7108928571428572 0.06339436617922219\n",
      "36.535714285714285 12.317183533749981\n"
     ]
    }
   ],
   "source": [
    "#IMC Hombres\n",
    "#hombreA0=(edad > 19) & (genero==1)\n",
    "\n",
    "pesoH=peso[hombreA0]\n",
    "alturaH=altura[hombreA0]\n",
    "edadH=edad[hombreA0]\n",
    "IDH=ID[hombreA0]\n",
    "\n",
    "print(np.mean(pesoH),np.std(pesoH))\n",
    "print(np.mean(alturaH),np.std(alturaH))\n",
    "print(np.mean(edadH),np.std(edadH))"
   ]
  },
  {
   "cell_type": "code",
   "execution_count": 61,
   "metadata": {},
   "outputs": [
    {
     "name": "stdout",
     "output_type": "stream",
     "text": [
      "24.944492004346444 3.6040181343323368\n",
      "ojo, adulto en desnutrición 3 [23 23 21]\n",
      "Felicitaciones, Buenos hábitos 26\n",
      "Cuidado, Sobre Peso 22\n",
      "ojo, Obesidad 3\n",
      "ojo, Obesidad Grave 0\n"
     ]
    }
   ],
   "source": [
    "IMCH=pesoH/(alturaH)**2\n",
    "print(np.mean(IMCH),np.std(IMCH))\n",
    "#clasificación\n",
    "\n",
    "#Desnutricion\n",
    "desnutricionH=(IMCH< 20)\n",
    "#print(IMCH[desnutricionH],edadH[desnutricionH],IDH[desnutricionH],alturaH[desnutricionH])\n",
    "print('ojo, adulto en desnutrición', len(IMCH[desnutricionH]),edadH[desnutricionH])\n",
    "\n",
    "#Normal\n",
    "normalH= (IMCH>=20) & (IMCH<=24.9)\n",
    "print('Felicitaciones, Buenos hábitos', len(IMCH[normalH]))#,edadH[normalH])\n",
    "\n",
    "#Sobre Peso\n",
    "sobreP=(IMCH>=25) & (IMCH<=29.9)\n",
    "print('Cuidado, Sobre Peso', len(IMCH[sobreP]))\n",
    "\n",
    "#obesidad\n",
    "obesidad=(IMCH>=30) & (IMCH<=40)\n",
    "print('ojo, Obesidad', len(IMCH[obesidad]))\n",
    "\n",
    "#Obesidad Grave\n",
    "obesidad_G=(IMCH>40)\n",
    "print('ojo, Obesidad Grave', len(IMCH[obesidad_G]))"
   ]
  },
  {
   "cell_type": "code",
   "execution_count": 83,
   "metadata": {},
   "outputs": [
    {
     "data": {
      "text/plain": [
       "Text(0, 0.5, 'IMC Hombres Adultos')"
      ]
     },
     "execution_count": 83,
     "metadata": {},
     "output_type": "execute_result"
    },
    {
     "data": {
      "image/png": "[encoded data removed]",
      "text/plain": [
       "<Figure size 432x288 with 1 Axes>"
      ]
     },
     "metadata": {
      "needs_background": "light"
     },
     "output_type": "display_data"
    }
   ],
   "source": [
    "plt.scatter(edadH,IMCH,alpha=0.5,marker='X')\n",
    "plt.grid()\n",
    "plt.axhline(y=20,color='r',linestyle='-',label='Desnutrición')\n",
    "plt.axhline(y=24.9,color='b',linestyle='-',label='Nrmal')\n",
    "plt.axhline(y=29.9,color='y',linestyle='-',label='Sobre Peso')\n",
    "plt.axhline(y=40,color='g',linestyle='-',label='obesidad')\n",
    "plt.legend()\n",
    "plt.xlabel('Edad Hombres Adultos')\n",
    "plt.ylabel('IMC Hombres Adultos')"
   ]
  },
  {
   "cell_type": "code",
   "execution_count": 84,
   "metadata": {},
   "outputs": [
    {
     "name": "stdout",
     "output_type": "stream",
     "text": [
      "59.92739726027397 9.495857211681841\n",
      "1.5857534246575342 0.06529003381580514\n",
      "40.43835616438356 14.28380278340956\n"
     ]
    }
   ],
   "source": [
    "#IMC Mujeres\n",
    "#mujereA0=(edad > 19) & (genero==0)\n",
    "\n",
    "pesoM=peso[mujereA0]\n",
    "alturaM=altura[mujereA0]\n",
    "edadM=edad[mujereA0]\n",
    "IDM=ID[mujereA0]\n",
    "\n",
    "print(np.mean(pesoM),np.std(pesoM))\n",
    "print(np.mean(alturaM),np.std(alturaM))\n",
    "print(np.mean(edadM),np.std(edadM))"
   ]
  },
  {
   "cell_type": "code",
   "execution_count": 92,
   "metadata": {},
   "outputs": [
    {
     "name": "stdout",
     "output_type": "stream",
     "text": [
      "ojo, adulto en desnutrición 5 [21 75 24 20 20]\n",
      "Felicitaciones, buenos habitos de nutricion 37\n",
      "ojo, sobre peso detectado, hay que cuidarse 18\n",
      "ojo, Obesidad 10\n",
      "ojo, Obesidad Grave 3\n"
     ]
    }
   ],
   "source": [
    "IMCM=pesoM/(alturaM)**2\n",
    "\n",
    "\n",
    "#clasificación\n",
    "\n",
    "#Desnutricion\n",
    "desnutricionM=(IMCM< 19)\n",
    "#print(IMCM[desnutricionM],edadM[desnutricionM],IDM[desnutricionM],alturaM[desnutricionM])\n",
    "print('ojo, adulto en desnutrición', len(IMCM[desnutricionM]),edadM[desnutricionM])\n",
    "\n",
    "#Normal\n",
    "normalM= (IMCM>=19) & (IMCM<=23.9)\n",
    "print('Felicitaciones, buenos habitos de nutricion', len(IMCM[normalM]))\n",
    "\n",
    "#sobre peso\n",
    "sobreP_M=(IMCM>=24) & (IMCM<=27)\n",
    "print('ojo, sobre peso detectado, hay que cuidarse', len(IMCM[sobreP_M]))\n",
    "\n",
    "#obesidad\n",
    "obesidadM=(IMCM>=27) & (IMCM<=32)\n",
    "print('ojo, Obesidad', len(IMCM[obesidadM]))\n",
    "\n",
    "#obesidad Grave\n",
    "obesidad_GM=(IMCM>32)\n",
    "print('ojo, Obesidad Grave', len(IMCM[obesidad_GM]))"
   ]
  },
  {
   "cell_type": "code",
   "execution_count": 93,
   "metadata": {},
   "outputs": [
    {
     "data": {
      "text/plain": [
       "Text(0, 0.5, 'IMC Hombres Adultos')"
      ]
     },
     "execution_count": 93,
     "metadata": {},
     "output_type": "execute_result"
    },
    {
     "data": {
      "image/png": "[encoded data removed]",
      "text/plain": [
       "<Figure size 432x288 with 1 Axes>"
      ]
     },
     "metadata": {
      "needs_background": "light"
     },
     "output_type": "display_data"
    }
   ],
   "source": [
    "plt.scatter(edadM,IMCM,alpha=0.5,marker='*')\n",
    "plt.grid()\n",
    "plt.axhline(y=19,color='r',linestyle='-',label='Desnutrición')\n",
    "plt.axhline(y=23.9,color='b',linestyle='-',label='Nrmal')\n",
    "plt.axhline(y=27,color='y',linestyle='-',label='Sobre Peso')\n",
    "plt.axhline(y=32,color='g',linestyle='-',label='obesidad')\n",
    "plt.legend()\n",
    "plt.xlabel('Edad Hombres Adultos')\n",
    "plt.ylabel('IMC Hombres Adultos')"
   ]
  },
  {
   "cell_type": "code",
   "execution_count": 104,
   "metadata": {},
   "outputs": [
    {
     "data": {
      "image/png": "[encoded data removed]",
      "text/plain": [
       "<Figure size 432x288 with 2 Axes>"
      ]
     },
     "metadata": {
      "needs_background": "light"
     },
     "output_type": "display_data"
    }
   ],
   "source": [
    "fig, (ax1, ax2) = plt.subplots(1, 2)\n",
    "\n",
    "#hombres ax1\n",
    "ax1.scatter(edadH,IMCH,alpha=0.5,marker='X',color='g')\n",
    "ax1.grid()\n",
    "ax1.axhline(y=20,color='r',linestyle='-',label='Desnutrición')\n",
    "ax1.axhline(y=24.9,color='b',linestyle='-',label='Nrmal')\n",
    "ax1.axhline(y=29.9,color='y',linestyle='-',label='Sobre Peso')\n",
    "ax1.axhline(y=40,color='g',linestyle='-',label='obesidad')\n",
    "ax1.legend()\n",
    "ax1.set_xlabel('Edad Hombres Adultos')\n",
    "ax1.set_ylabel('IMC Adultos')\n",
    "\n",
    "#Mujeres ax2\n",
    "\n",
    "ax2.scatter(edadM,IMCM,alpha=0.5,marker='*',color='r')\n",
    "ax2.grid()\n",
    "ax2.axhline(y=19,color='r',linestyle='-',label='Desnutrición')\n",
    "ax2.axhline(y=23.9,color='b',linestyle='-',label='Nrmal')\n",
    "ax2.axhline(y=27,color='y',linestyle='-',label='Sobre Peso')\n",
    "ax2.axhline(y=32,color='g',linestyle='-',label='obesidad')\n",
    "ax2.legend()\n",
    "ax2.set_xlabel('Edad Muejere Adultos')\n",
    "#ax2.set_ylabel('IMC Mujeres Adultos')\n",
    "plt.savefig('./figura3.pdf')\n"
   ]
  },
  {
   "cell_type": "code",
   "execution_count": null,
   "metadata": {},
   "outputs": [],
   "source": []
  }
 ],
 "metadata": {
  "kernelspec": {
   "display_name": "Python 3",
   "language": "python",
   "name": "python3"
  },
  "language_info": {
   "codemirror_mode": {
    "name": "ipython",
    "version": 3
   },
   "file_extension": ".py",
   "mimetype": "text/x-python",
   "name": "python",
   "nbconvert_exporter": "python",
   "pygments_lexer": "ipython3",
   "version": "3.6.8"
  }
 },
 "nbformat": 4,
 "nbformat_minor": 4
}
