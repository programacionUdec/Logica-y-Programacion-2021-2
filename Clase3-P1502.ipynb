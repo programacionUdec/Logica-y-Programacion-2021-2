{
 "cells": [
  {
   "cell_type": "code",
   "execution_count": 3,
   "metadata": {},
   "outputs": [
    {
     "name": "stdout",
     "output_type": "stream",
     "text": [
      "Ingresa un numero entero\n"
     ]
    },
    {
     "name": "stdin",
     "output_type": "stream",
     "text": [
      " 12\n"
     ]
    },
    {
     "name": "stdout",
     "output_type": "stream",
     "text": [
      "<class 'int'>\n"
     ]
    }
   ],
   "source": [
    "#varibles de entrada sean enteras \n",
    "\n",
    "print('Ingresa un numero entero')\n",
    "numero=int(input())\n",
    "\n",
    "print(type(numero))"
   ]
  },
  {
   "cell_type": "code",
   "execution_count": 12,
   "metadata": {},
   "outputs": [
    {
     "name": "stdout",
     "output_type": "stream",
     "text": [
      "Este programa recibe un numero entero e imprime las potencias 2 \n",
      "\n",
      "Ingresa un numero entero\n"
     ]
    },
    {
     "name": "stdin",
     "output_type": "stream",
     "text": [
      " 34\n"
     ]
    },
    {
     "name": "stdout",
     "output_type": "stream",
     "text": [
      "34 elevado a la 2, sera 1156\n"
     ]
    }
   ],
   "source": [
    "print(\"Este programa recibe un numero entero e imprime las potencias 2 \\n\")\n",
    "print('Ingresa un numero entero')\n",
    "numero2=int(input())\n",
    "\n",
    "print(numero2,'elevado a la 2, sera',numero2**2 )"
   ]
  },
  {
   "cell_type": "code",
   "execution_count": 9,
   "metadata": {},
   "outputs": [],
   "source": [
    "#dados dos numeros por el usuario, el numero1 representa la altura y el numero2 representa la base de un \n",
    "#rectangulo, el programa debo calcular el área \n",
    "#1. digitar lo q necesito, una variable para la base y otra variable para la altura (con función input())\n",
    "#2. Definir una variable para el area=base*altura"
   ]
  },
  {
   "cell_type": "code",
   "execution_count": 11,
   "metadata": {},
   "outputs": [
    {
     "name": "stdout",
     "output_type": "stream",
     "text": [
      "Este programa recibe dos numeros para calcular el area de un rectangulo \n",
      "\n",
      "Ingrese el valor de la altura\n"
     ]
    },
    {
     "name": "stdin",
     "output_type": "stream",
     "text": [
      " 12.8\n"
     ]
    },
    {
     "name": "stdout",
     "output_type": "stream",
     "text": [
      "Ingrese el valor de la base\n"
     ]
    },
    {
     "name": "stdin",
     "output_type": "stream",
     "text": [
      " 15\n"
     ]
    },
    {
     "name": "stdout",
     "output_type": "stream",
     "text": [
      "la base del rectangulo es: 15.0 \n",
      " la altura del rectangulo es: 12.8 \n",
      " el área será: 192.0\n"
     ]
    }
   ],
   "source": [
    "print('Este programa recibe dos numeros para calcular el área de un rectangulo \\n')\n",
    "print('Ingrese el valor de la altura')\n",
    "altura=float(input())\n",
    "print('Ingrese el valor de la base')\n",
    "base=float(input())\n",
    "\n",
    "area=altura*base\n",
    "\n",
    "print('la base del rectangulo es:',base,'\\n','la altura del rectangulo es:',altura,'\\n','el área será:',area )"
   ]
  },
  {
   "cell_type": "code",
   "execution_count": 13,
   "metadata": {},
   "outputs": [
    {
     "name": "stdout",
     "output_type": "stream",
     "text": [
      "Este programa recibe un numero entero e imprime las potencias 3 \n",
      "\n",
      "Ingresa un numero entero\n"
     ]
    },
    {
     "name": "stdin",
     "output_type": "stream",
     "text": [
      " 2\n"
     ]
    },
    {
     "name": "stdout",
     "output_type": "stream",
     "text": [
      "2 elevado a la 3, sera 8\n"
     ]
    }
   ],
   "source": [
    "#salidas con formato\n",
    "\n",
    "print(\"Este programa recibe un numero entero e imprime las potencias 3 \\n\")\n",
    "print('Ingresa un numero entero')\n",
    "numero3=int(input())\n",
    "\n",
    "print(numero3,'elevado a la 3, sera',numero3**3 )"
   ]
  },
  {
   "cell_type": "code",
   "execution_count": 14,
   "metadata": {},
   "outputs": [
    {
     "name": "stdout",
     "output_type": "stream",
     "text": [
      "2 elevado a la 3 es 8\n"
     ]
    }
   ],
   "source": [
    "print('%d elevado a la %d es %d'%(numero3,3,numero3**3))"
   ]
  },
  {
   "cell_type": "code",
   "execution_count": 15,
   "metadata": {},
   "outputs": [
    {
     "name": "stdout",
     "output_type": "stream",
     "text": [
      "      2.00 elevado a 3 es 8.000000\n"
     ]
    }
   ],
   "source": [
    "print(\"%10.2f elevado a %d es %f\" %(numero3,3,numero3**3))"
   ]
  },
  {
   "cell_type": "code",
   "execution_count": null,
   "metadata": {},
   "outputs": [],
   "source": []
  }
 ],
 "metadata": {
  "kernelspec": {
   "display_name": "Python 3",
   "language": "python",
   "name": "python3"
  },
  "language_info": {
   "codemirror_mode": {
    "name": "ipython",
    "version": 3
   },
   "file_extension": ".py",
   "mimetype": "text/x-python",
   "name": "python",
   "nbconvert_exporter": "python",
   "pygments_lexer": "ipython3",
   "version": "3.6.8"
  }
 },
 "nbformat": 4,
 "nbformat_minor": 4
}
