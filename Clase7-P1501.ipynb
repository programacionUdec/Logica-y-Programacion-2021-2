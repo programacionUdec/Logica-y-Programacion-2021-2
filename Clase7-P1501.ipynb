{
 "cells": [
  {
   "cell_type": "code",
   "execution_count": 1,
   "metadata": {},
   "outputs": [],
   "source": [
    "#Programa: funciones.ipynb\n",
    "#@autor: @programacionUdec - logprog1\n",
    "#Propósito: entender el tema de funciones\n",
    "#Fecha: 2 de Nov 2021"
   ]
  },
  {
   "cell_type": "code",
   "execution_count": 2,
   "metadata": {},
   "outputs": [
    {
     "name": "stdout",
     "output_type": "stream",
     "text": [
      "hola\n"
     ]
    }
   ],
   "source": [
    "print('hola')"
   ]
  },
  {
   "cell_type": "code",
   "execution_count": 3,
   "metadata": {},
   "outputs": [
    {
     "name": "stdout",
     "output_type": "stream",
     "text": [
      "2.0\n"
     ]
    }
   ],
   "source": [
    "import math as bolita\n",
    "\n",
    "s=bolita.log10(100)\n",
    "print(s)"
   ]
  },
  {
   "cell_type": "code",
   "execution_count": 4,
   "metadata": {},
   "outputs": [],
   "source": [
    "def my_fuction():\n",
    "    print('Hello')"
   ]
  },
  {
   "cell_type": "code",
   "execution_count": 8,
   "metadata": {},
   "outputs": [
    {
     "name": "stdout",
     "output_type": "stream",
     "text": [
      "Hello\n"
     ]
    }
   ],
   "source": [
    "f=2\n",
    "my_fuction()"
   ]
  },
  {
   "cell_type": "code",
   "execution_count": 9,
   "metadata": {},
   "outputs": [
    {
     "name": "stdout",
     "output_type": "stream",
     "text": [
      "Hello\n"
     ]
    }
   ],
   "source": [
    "my_fuction()"
   ]
  },
  {
   "cell_type": "code",
   "execution_count": 10,
   "metadata": {},
   "outputs": [
    {
     "name": "stdout",
     "output_type": "stream",
     "text": [
      "Hello\n"
     ]
    }
   ],
   "source": [
    "my_fuction()"
   ]
  },
  {
   "cell_type": "code",
   "execution_count": 15,
   "metadata": {},
   "outputs": [
    {
     "name": "stdout",
     "output_type": "stream",
     "text": [
      "Hola \tVivian\n",
      "Hola \tAndres Daniel\n",
      "Hola \tjulian\n"
     ]
    }
   ],
   "source": [
    "def saludar(nombre):\n",
    "    print('Hola', '\\t' + nombre)\n",
    "\n",
    "saludar('Vivian')\n",
    "saludar('Andres Daniel')\n",
    "saludar('julian')"
   ]
  },
  {
   "cell_type": "code",
   "execution_count": 17,
   "metadata": {},
   "outputs": [
    {
     "name": "stdout",
     "output_type": "stream",
     "text": [
      "Hola \tJohan\n"
     ]
    }
   ],
   "source": [
    "saludar('Johan')"
   ]
  },
  {
   "cell_type": "code",
   "execution_count": 18,
   "metadata": {},
   "outputs": [],
   "source": [
    "fruits=[\"apple\",'banana', \"cherry\"]\n",
    "chatarrazo=['hamburguesa','papitas fritas','doritos']\n",
    "granos=['garbazos','frijoles','lentejas']\n",
    "\n",
    "def my_food(food):\n",
    "    for i in food:\n",
    "        print(i)"
   ]
  },
  {
   "cell_type": "code",
   "execution_count": 21,
   "metadata": {},
   "outputs": [
    {
     "name": "stdout",
     "output_type": "stream",
     "text": [
      "apple\n",
      "banana\n",
      "cherry\n",
      "garbazos\n",
      "frijoles\n",
      "lentejas\n",
      "hamburguesa\n",
      "papitas fritas\n",
      "doritos\n"
     ]
    }
   ],
   "source": [
    "my_food(fruits)\n",
    "my_food(granos)\n",
    "my_food(chatarrazo)"
   ]
  },
  {
   "cell_type": "code",
   "execution_count": 22,
   "metadata": {},
   "outputs": [
    {
     "name": "stdout",
     "output_type": "stream",
     "text": [
      "Los estudiantes de la Universidad UDEC del curso Matematicas1 son muy juciosos\n"
     ]
    }
   ],
   "source": [
    "def felicitacion(universidad,curso):\n",
    "    print('Los estudiantes de la Universidad',universidad,'del curso',curso,'son muy juciosos')\n",
    "    \n",
    "felicitacion('UDEC','Matematicas1')"
   ]
  },
  {
   "cell_type": "code",
   "execution_count": 23,
   "metadata": {},
   "outputs": [
    {
     "name": "stdout",
     "output_type": "stream",
     "text": [
      "Los estudiantes de la Universidad Javeriana del curso Biofisica son muy juciosos\n"
     ]
    }
   ],
   "source": [
    "felicitacion('Javeriana','Biofisica')"
   ]
  },
  {
   "cell_type": "code",
   "execution_count": 25,
   "metadata": {},
   "outputs": [
    {
     "name": "stdout",
     "output_type": "stream",
     "text": [
      "Los estudiantes de la Universidad unal del curso mecanica son muy juciosos\n"
     ]
    }
   ],
   "source": [
    "felicitacion('unal','mecanica')"
   ]
  },
  {
   "cell_type": "code",
   "execution_count": 26,
   "metadata": {},
   "outputs": [
    {
     "name": "stdout",
     "output_type": "stream",
     "text": [
      "Los estudiantes de la Universidad jueves del curso martes son muy juciosos\n"
     ]
    }
   ],
   "source": [
    "felicitacion('jueves','martes')"
   ]
  },
  {
   "cell_type": "code",
   "execution_count": 28,
   "metadata": {},
   "outputs": [
    {
     "ename": "TypeError",
     "evalue": "felicitacion() missing 1 required positional argument: 'curso'",
     "output_type": "error",
     "traceback": [
      "\u001b[0;31m---------------------------------------------------------------------------\u001b[0m",
      "\u001b[0;31mTypeError\u001b[0m                                 Traceback (most recent call last)",
      "\u001b[0;32m<ipython-input-28-cbb48cb47d14>\u001b[0m in \u001b[0;36m<module>\u001b[0;34m\u001b[0m\n\u001b[0;32m----> 1\u001b[0;31m \u001b[0mfelicitacion\u001b[0m\u001b[0;34m(\u001b[0m\u001b[0;34m'UDEC'\u001b[0m\u001b[0;34m)\u001b[0m\u001b[0;34m\u001b[0m\u001b[0;34m\u001b[0m\u001b[0m\n\u001b[0m",
      "\u001b[0;31mTypeError\u001b[0m: felicitacion() missing 1 required positional argument: 'curso'"
     ]
    }
   ],
   "source": [
    "felicitacion('UDEC')"
   ]
  },
  {
   "cell_type": "code",
   "execution_count": 29,
   "metadata": {},
   "outputs": [
    {
     "name": "stdout",
     "output_type": "stream",
     "text": [
      "el numero -5 es negativo\n"
     ]
    }
   ],
   "source": [
    "def signos(x):\n",
    "    if x<0:\n",
    "        print('el numero',x,'es negativo')\n",
    "    elif x>0:\n",
    "        print('el numero',x,'es positivo')\n",
    "    elif x==0:\n",
    "        print('el numero',x,'es cero')\n",
    "        \n",
    "signos(-5)"
   ]
  },
  {
   "cell_type": "code",
   "execution_count": 30,
   "metadata": {},
   "outputs": [
    {
     "name": "stdout",
     "output_type": "stream",
     "text": [
      "el numero 76 es positivo\n"
     ]
    }
   ],
   "source": [
    "signos(76)"
   ]
  },
  {
   "cell_type": "code",
   "execution_count": 31,
   "metadata": {},
   "outputs": [
    {
     "name": "stdout",
     "output_type": "stream",
     "text": [
      "el numero 0 es cero\n"
     ]
    }
   ],
   "source": [
    "signos(0)"
   ]
  },
  {
   "cell_type": "code",
   "execution_count": 37,
   "metadata": {},
   "outputs": [
    {
     "name": "stdin",
     "output_type": "stream",
     "text": [
      "ingrese un numero entero 0\n"
     ]
    },
    {
     "name": "stdout",
     "output_type": "stream",
     "text": [
      "el numero 0 es cero\n"
     ]
    }
   ],
   "source": [
    "h=int(input('ingrese un numero entero'))\n",
    "\n",
    "signos(h)"
   ]
  },
  {
   "cell_type": "code",
   "execution_count": 38,
   "metadata": {},
   "outputs": [
    {
     "name": "stdout",
     "output_type": "stream",
     "text": [
      "el numero 6 es positivo\n"
     ]
    }
   ],
   "source": [
    "def cosita(x):\n",
    "    if x<0:\n",
    "        print('el numero',x,'es negativo')\n",
    "    elif x>0:\n",
    "        print('el numero',x,'es positivo')\n",
    "    elif x==0:\n",
    "        print('el numero',x,'es cero')\n",
    "        \n",
    "cosita(6)"
   ]
  },
  {
   "cell_type": "code",
   "execution_count": 39,
   "metadata": {},
   "outputs": [
    {
     "name": "stdout",
     "output_type": "stream",
     "text": [
      "el numero -40 es negativo\n"
     ]
    }
   ],
   "source": [
    "cosita(-40)"
   ]
  },
  {
   "cell_type": "code",
   "execution_count": 40,
   "metadata": {},
   "outputs": [
    {
     "name": "stdout",
     "output_type": "stream",
     "text": [
      "el numero 2 es positivo\n"
     ]
    }
   ],
   "source": [
    "signos(2)"
   ]
  },
  {
   "cell_type": "code",
   "execution_count": 49,
   "metadata": {},
   "outputs": [
    {
     "data": {
      "text/plain": [
       "8.5"
      ]
     },
     "execution_count": 49,
     "metadata": {},
     "output_type": "execute_result"
    }
   ],
   "source": [
    "def cuadrado(x,z):\n",
    "    y=x**2+z\n",
    "    #print(y)\n",
    "    return y #retorna un valor, el retoro indica lo retornado por la función (funcion con retorno)\n",
    "    \n",
    "    \n",
    "cuadrado(1.5,2)*2\n"
   ]
  },
  {
   "cell_type": "code",
   "execution_count": 51,
   "metadata": {},
   "outputs": [
    {
     "name": "stdout",
     "output_type": "stream",
     "text": [
      "<class 'float'>\n"
     ]
    }
   ],
   "source": [
    "print(type(cuadrado(1.5,2)))"
   ]
  },
  {
   "cell_type": "code",
   "execution_count": 54,
   "metadata": {},
   "outputs": [
    {
     "name": "stdin",
     "output_type": "stream",
     "text": [
      "ingrese un numero entero 1\n",
      "ingrese un numero entero 2\n"
     ]
    },
    {
     "data": {
      "text/plain": [
       "9"
      ]
     },
     "execution_count": 54,
     "metadata": {},
     "output_type": "execute_result"
    }
   ],
   "source": [
    "j=int(input('ingrese un numero entero'))\n",
    "l=int(input('ingrese un numero entero'))\n",
    "cuadrado(j,l)**2"
   ]
  },
  {
   "cell_type": "code",
   "execution_count": 64,
   "metadata": {},
   "outputs": [
    {
     "name": "stdout",
     "output_type": "stream",
     "text": [
      "(6, 4, 5)\n",
      "6\n",
      "(6, 4)\n"
     ]
    }
   ],
   "source": [
    "def funcionando(a,b,c,e,f):\n",
    "    z=a+b+c\n",
    "    return (z,e,f)\n",
    "\n",
    "print(funcionando(1,2,3,4,5))\n",
    "g=funcionando(1,2,3,4,5)\n",
    "print(g[0])\n",
    "print(g[0:2])"
   ]
  },
  {
   "cell_type": "code",
   "execution_count": 69,
   "metadata": {},
   "outputs": [
    {
     "data": {
      "text/plain": [
       "(5, 10, 'a')"
      ]
     },
     "execution_count": 69,
     "metadata": {},
     "output_type": "execute_result"
    }
   ],
   "source": [
    "def corazoncito():\n",
    "    z=5\n",
    "    e=5+z\n",
    "    f='a'\n",
    "    return (z, e,f)\n",
    "\n",
    "corazoncito()\n",
    "    "
   ]
  },
  {
   "cell_type": "code",
   "execution_count": 70,
   "metadata": {},
   "outputs": [
    {
     "data": {
      "text/plain": [
       "(5, 10, 'a')"
      ]
     },
     "execution_count": 70,
     "metadata": {},
     "output_type": "execute_result"
    }
   ],
   "source": [
    "corazoncito()"
   ]
  },
  {
   "cell_type": "code",
   "execution_count": 71,
   "metadata": {},
   "outputs": [
    {
     "ename": "NameError",
     "evalue": "name 'z' is not defined",
     "output_type": "error",
     "traceback": [
      "\u001b[0;31m---------------------------------------------------------------------------\u001b[0m",
      "\u001b[0;31mNameError\u001b[0m                                 Traceback (most recent call last)",
      "\u001b[0;32m<ipython-input-71-c01ac3f50fdc>\u001b[0m in \u001b[0;36m<module>\u001b[0;34m\u001b[0m\n\u001b[0;32m----> 1\u001b[0;31m \u001b[0mprint\u001b[0m\u001b[0;34m(\u001b[0m\u001b[0mz\u001b[0m\u001b[0;34m)\u001b[0m\u001b[0;34m\u001b[0m\u001b[0;34m\u001b[0m\u001b[0m\n\u001b[0m",
      "\u001b[0;31mNameError\u001b[0m: name 'z' is not defined"
     ]
    }
   ],
   "source": [
    "print(z) #por fuera de la funcion la variable z no esta definida, solo existe dentro de la función corazoncito()"
   ]
  },
  {
   "cell_type": "code",
   "execution_count": null,
   "metadata": {},
   "outputs": [],
   "source": []
  }
 ],
 "metadata": {
  "kernelspec": {
   "display_name": "Python 3",
   "language": "python",
   "name": "python3"
  },
  "language_info": {
   "codemirror_mode": {
    "name": "ipython",
    "version": 3
   },
   "file_extension": ".py",
   "mimetype": "text/x-python",
   "name": "python",
   "nbconvert_exporter": "python",
   "pygments_lexer": "ipython3",
   "version": "3.6.8"
  }
 },
 "nbformat": 4,
 "nbformat_minor": 4
}
