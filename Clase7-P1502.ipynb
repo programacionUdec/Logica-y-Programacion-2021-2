{
 "cells": [
  {
   "cell_type": "code",
   "execution_count": 1,
   "metadata": {},
   "outputs": [],
   "source": [
    "#Programa: funciones.ipynb\n",
    "#@autor: @programacionUdec - logprog1\n",
    "#Propósito: entender el tema de funciones\n",
    "#Fecha: 2 de Nov 2021"
   ]
  },
  {
   "cell_type": "code",
   "execution_count": 2,
   "metadata": {},
   "outputs": [
    {
     "name": "stdout",
     "output_type": "stream",
     "text": [
      "Hola\n"
     ]
    }
   ],
   "source": [
    "print('Hola')"
   ]
  },
  {
   "cell_type": "code",
   "execution_count": 4,
   "metadata": {},
   "outputs": [
    {
     "name": "stdout",
     "output_type": "stream",
     "text": [
      "2.0\n"
     ]
    }
   ],
   "source": [
    "import math as bolita\n",
    "\n",
    "s=bolita.log10(100)\n",
    "print(s)"
   ]
  },
  {
   "cell_type": "code",
   "execution_count": 5,
   "metadata": {},
   "outputs": [
    {
     "name": "stdout",
     "output_type": "stream",
     "text": [
      "3.0\n"
     ]
    }
   ],
   "source": [
    "h=bolita.log10(1000)\n",
    "print(h)"
   ]
  },
  {
   "cell_type": "code",
   "execution_count": 6,
   "metadata": {},
   "outputs": [],
   "source": [
    "def my_fuction():\n",
    "    print('Hello')"
   ]
  },
  {
   "cell_type": "code",
   "execution_count": 40,
   "metadata": {},
   "outputs": [
    {
     "name": "stdout",
     "output_type": "stream",
     "text": [
      "Hello\n"
     ]
    }
   ],
   "source": [
    "my_fuction()"
   ]
  },
  {
   "cell_type": "code",
   "execution_count": 8,
   "metadata": {},
   "outputs": [
    {
     "name": "stdout",
     "output_type": "stream",
     "text": [
      "Hello\n"
     ]
    }
   ],
   "source": [
    "my_fuction()"
   ]
  },
  {
   "cell_type": "code",
   "execution_count": 13,
   "metadata": {},
   "outputs": [
    {
     "name": "stdout",
     "output_type": "stream",
     "text": [
      "Hola \tKarol\n",
      "Hola \tJuliana\n",
      "Hola \tJuan\n"
     ]
    }
   ],
   "source": [
    "def saludar(nombre):\n",
    "    print('Hola', '\\t' + nombre)\n",
    "\n",
    "saludar('Karol')\n",
    "saludar('Juliana')\n",
    "saludar('Juan')"
   ]
  },
  {
   "cell_type": "code",
   "execution_count": 14,
   "metadata": {},
   "outputs": [
    {
     "name": "stdout",
     "output_type": "stream",
     "text": [
      "apple\n",
      "banana\n",
      "cherry\n"
     ]
    }
   ],
   "source": [
    "def my_food(food):\n",
    "    for i in food:\n",
    "        print(i)\n",
    "        \n",
    "fruits=[\"apple\",'banana', \"cherry\"]\n",
    "chatarrazo=['hamburguesa','papitas fritas','doritos']\n",
    "granos=['garbazos','frijoles','lentejas']\n",
    "\n",
    "\n",
    "my_food(fruits)"
   ]
  },
  {
   "cell_type": "code",
   "execution_count": 15,
   "metadata": {},
   "outputs": [
    {
     "name": "stdout",
     "output_type": "stream",
     "text": [
      "hamburguesa\n",
      "papitas fritas\n",
      "doritos\n"
     ]
    }
   ],
   "source": [
    "my_food(chatarrazo)"
   ]
  },
  {
   "cell_type": "code",
   "execution_count": 16,
   "metadata": {},
   "outputs": [
    {
     "name": "stdout",
     "output_type": "stream",
     "text": [
      "garbazos\n",
      "frijoles\n",
      "lentejas\n"
     ]
    }
   ],
   "source": [
    "my_food(granos)"
   ]
  },
  {
   "cell_type": "code",
   "execution_count": 17,
   "metadata": {},
   "outputs": [
    {
     "name": "stdout",
     "output_type": "stream",
     "text": [
      "Las estudiantes de la Universidad UDEC del curso Programación son muy juciosas\n"
     ]
    }
   ],
   "source": [
    "def felicitacion(universidad,curso):\n",
    "    print('Las estudiantes de la Universidad',universidad,'del curso',curso,'son muy juciosas')\n",
    "    \n",
    "felicitacion('UDEC','Programación')\n",
    "    "
   ]
  },
  {
   "cell_type": "code",
   "execution_count": 20,
   "metadata": {},
   "outputs": [
    {
     "name": "stdout",
     "output_type": "stream",
     "text": [
      "Las estudiantes de la Universidad diana del curso jueves son muy juciosas\n"
     ]
    }
   ],
   "source": [
    "felicitacion('diana','jueves')"
   ]
  },
  {
   "cell_type": "code",
   "execution_count": 21,
   "metadata": {},
   "outputs": [
    {
     "ename": "TypeError",
     "evalue": "felicitacion() takes 2 positional arguments but 3 were given",
     "output_type": "error",
     "traceback": [
      "\u001b[0;31m---------------------------------------------------------------------------\u001b[0m",
      "\u001b[0;31mTypeError\u001b[0m                                 Traceback (most recent call last)",
      "\u001b[0;32m<ipython-input-21-c72f141f0da6>\u001b[0m in \u001b[0;36m<module>\u001b[0;34m\u001b[0m\n\u001b[0;32m----> 1\u001b[0;31m \u001b[0mfelicitacion\u001b[0m\u001b[0;34m(\u001b[0m\u001b[0;34m'diana'\u001b[0m\u001b[0;34m,\u001b[0m\u001b[0;34m'jueves'\u001b[0m\u001b[0;34m,\u001b[0m\u001b[0;34m'luness'\u001b[0m\u001b[0;34m)\u001b[0m\u001b[0;34m\u001b[0m\u001b[0;34m\u001b[0m\u001b[0m\n\u001b[0m",
      "\u001b[0;31mTypeError\u001b[0m: felicitacion() takes 2 positional arguments but 3 were given"
     ]
    }
   ],
   "source": [
    "felicitacion('diana','jueves','luness')"
   ]
  },
  {
   "cell_type": "code",
   "execution_count": 23,
   "metadata": {},
   "outputs": [
    {
     "name": "stdout",
     "output_type": "stream",
     "text": [
      "el numero -2 es negativo\n",
      "el numero 8 es postivo\n"
     ]
    }
   ],
   "source": [
    "def signos(x):\n",
    "    if x<0:\n",
    "        print('el numero',x,'es negativo')\n",
    "    elif x>0:\n",
    "        print('el numero',x,'es postivo')\n",
    "    elif x==0:\n",
    "        print('el numero',x,'es cero')\n",
    "\n",
    "\n",
    "signos(-2)        \n",
    "signos(8)       \n",
    "\n",
    "\n",
    "        "
   ]
  },
  {
   "cell_type": "code",
   "execution_count": 27,
   "metadata": {},
   "outputs": [
    {
     "name": "stdin",
     "output_type": "stream",
     "text": [
      "ingrese un numero entero 1\n"
     ]
    },
    {
     "name": "stdout",
     "output_type": "stream",
     "text": [
      "el numero 1 es postivo\n"
     ]
    }
   ],
   "source": [
    "h=int(input('ingrese un numero entero'))\n",
    "\n",
    "signos(h)"
   ]
  },
  {
   "cell_type": "code",
   "execution_count": 36,
   "metadata": {},
   "outputs": [
    {
     "name": "stdin",
     "output_type": "stream",
     "text": [
      "ingrese un numero entero 4\n",
      "ingrese un numero entero 76\n"
     ]
    },
    {
     "data": {
      "text/plain": [
       "184"
      ]
     },
     "execution_count": 36,
     "metadata": {},
     "output_type": "execute_result"
    }
   ],
   "source": [
    "def cuadrado(x,z):\n",
    "    y=x**2+z\n",
    "    #print(y)\n",
    "    return y  #retorna un valor, el retoro indica lo retornado por la función (funcion con retorno)\n",
    "    \n",
    "j=int(input('ingrese un numero entero'))\n",
    "l=int(input('ingrese un numero entero'))\n",
    "\n",
    "cuadrado(j,l)*2\n"
   ]
  },
  {
   "cell_type": "code",
   "execution_count": 37,
   "metadata": {},
   "outputs": [
    {
     "data": {
      "text/plain": [
       "int"
      ]
     },
     "execution_count": 37,
     "metadata": {},
     "output_type": "execute_result"
    }
   ],
   "source": [
    "type(cuadrado(j,l))"
   ]
  },
  {
   "cell_type": "code",
   "execution_count": 47,
   "metadata": {},
   "outputs": [
    {
     "data": {
      "text/plain": [
       "(17, 10, 16)"
      ]
     },
     "execution_count": 47,
     "metadata": {},
     "output_type": "execute_result"
    }
   ],
   "source": [
    "def funcionando(a,b,c,e,f):\n",
    "    z= a+b+c\n",
    "    return (z,e,f)\n",
    "\n",
    "funcionando(3,5,9,10,16)"
   ]
  },
  {
   "cell_type": "code",
   "execution_count": 44,
   "metadata": {},
   "outputs": [],
   "source": [
    "def corazoncito():\n",
    "    z=5\n",
    "    e=5+z\n",
    "    f='a'\n",
    "    return (z, e,f)"
   ]
  },
  {
   "cell_type": "code",
   "execution_count": 45,
   "metadata": {},
   "outputs": [
    {
     "data": {
      "text/plain": [
       "(5, 10, 'a')"
      ]
     },
     "execution_count": 45,
     "metadata": {},
     "output_type": "execute_result"
    }
   ],
   "source": [
    "corazoncito()"
   ]
  },
  {
   "cell_type": "code",
   "execution_count": 46,
   "metadata": {},
   "outputs": [
    {
     "data": {
      "text/plain": [
       "(5, 10, 'a')"
      ]
     },
     "execution_count": 46,
     "metadata": {},
     "output_type": "execute_result"
    }
   ],
   "source": [
    "corazoncito()"
   ]
  },
  {
   "cell_type": "code",
   "execution_count": null,
   "metadata": {},
   "outputs": [],
   "source": []
  }
 ],
 "metadata": {
  "kernelspec": {
   "display_name": "Python 3",
   "language": "python",
   "name": "python3"
  },
  "language_info": {
   "codemirror_mode": {
    "name": "ipython",
    "version": 3
   },
   "file_extension": ".py",
   "mimetype": "text/x-python",
   "name": "python",
   "nbconvert_exporter": "python",
   "pygments_lexer": "ipython3",
   "version": "3.6.8"
  }
 },
 "nbformat": 4,
 "nbformat_minor": 4
}
