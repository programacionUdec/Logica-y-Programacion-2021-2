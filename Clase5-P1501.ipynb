{
 "cells": [
  {
   "cell_type": "code",
   "execution_count": 1,
   "metadata": {},
   "outputs": [],
   "source": [
    "#Programa: ciclo_for.ipynb \n",
    "#autor: miembros del grupo de trabajo\n",
    "#Objetivo del programa: Programa para entender funcionamiento del ciclo for\n",
    "#fecha: "
   ]
  },
  {
   "cell_type": "code",
   "execution_count": 2,
   "metadata": {},
   "outputs": [
    {
     "data": {
      "text/plain": [
       "0.8538134105097086"
      ]
     },
     "execution_count": 2,
     "metadata": {},
     "output_type": "execute_result"
    }
   ],
   "source": [
    "import random\n",
    "random.random()"
   ]
  },
  {
   "cell_type": "code",
   "execution_count": 3,
   "metadata": {},
   "outputs": [
    {
     "data": {
      "text/plain": [
       "53"
      ]
     },
     "execution_count": 3,
     "metadata": {},
     "output_type": "execute_result"
    }
   ],
   "source": [
    "random.randint(-100,100)"
   ]
  },
  {
   "cell_type": "code",
   "execution_count": 4,
   "metadata": {},
   "outputs": [
    {
     "data": {
      "text/plain": [
       "34"
      ]
     },
     "execution_count": 4,
     "metadata": {},
     "output_type": "execute_result"
    }
   ],
   "source": [
    "lista=[10,34,7,25,67,59]\n",
    "random.choice(lista)\n"
   ]
  },
  {
   "cell_type": "code",
   "execution_count": 5,
   "metadata": {},
   "outputs": [
    {
     "data": {
      "text/plain": [
       "'santiago'"
      ]
     },
     "execution_count": 5,
     "metadata": {},
     "output_type": "execute_result"
    }
   ],
   "source": [
    "lista2=['vivian','Laura','Julian','Johan','santiago','davison','Juan']\n",
    "random.choice(lista2)\n"
   ]
  },
  {
   "cell_type": "code",
   "execution_count": 6,
   "metadata": {},
   "outputs": [
    {
     "name": "stdout",
     "output_type": "stream",
     "text": [
      "False\n",
      "False\n",
      "True\n",
      "True\n"
     ]
    }
   ],
   "source": [
    "#operador in: devuelve True si un elemento se encuentra dentro de otro ((en este caso la lista a))  \n",
    "\n",
    "a = [3, 4,8,0,'Hola']\n",
    "\n",
    "print(9 in a)\n",
    "print(9==a)\n",
    "print(9!=a)\n",
    "print('Hola' in a)"
   ]
  },
  {
   "cell_type": "code",
   "execution_count": 7,
   "metadata": {},
   "outputs": [
    {
     "name": "stdout",
     "output_type": "stream",
     "text": [
      "[8, 9, 10, 11, 12, 13, 14, 15, 16, 17, 18, 19]\n",
      "False\n",
      "True\n"
     ]
    }
   ],
   "source": [
    "b=list(range(8,20))\n",
    "print(b)\n",
    "print(1 in b)\n",
    "print(10 in b)"
   ]
  },
  {
   "cell_type": "code",
   "execution_count": 8,
   "metadata": {},
   "outputs": [
    {
     "name": "stdout",
     "output_type": "stream",
     "text": [
      "6\n",
      "con indentación (dentro del ciclo for) 1\n",
      "con indentación (dentro del ciclo for) 2\n",
      "con indentación (dentro del ciclo for) 3\n",
      "con indentación (dentro del ciclo for) Hola\n",
      "con indentación (dentro del ciclo for) 56\n",
      "con indentación (dentro del ciclo for) ultimo\n",
      "sin indentación ultimo\n"
     ]
    }
   ],
   "source": [
    "#ciclos for usan objetos iterables (que tengan indices)\n",
    "H=[1,2,3,'Hola',56,'ultimo']\n",
    "print(len(H))\n",
    "for x in H:\n",
    "    print('con indentación (dentro del ciclo for)',x)\n",
    "    \n",
    "\n",
    "\n",
    "print('sin indentación',x)"
   ]
  },
  {
   "cell_type": "code",
   "execution_count": 9,
   "metadata": {},
   "outputs": [
    {
     "name": "stdout",
     "output_type": "stream",
     "text": [
      "1\n",
      "2\n",
      "3\n",
      "Hola\n",
      "56\n",
      "ultimo\n"
     ]
    }
   ],
   "source": [
    "for x in range(len(H)):\n",
    "    #print(x)\n",
    "    print(H[x])"
   ]
  },
  {
   "cell_type": "code",
   "execution_count": 10,
   "metadata": {},
   "outputs": [
    {
     "ename": "TypeError",
     "evalue": "'int' object is not iterable",
     "output_type": "error",
     "traceback": [
      "\u001b[0;31m---------------------------------------------------------------------------\u001b[0m",
      "\u001b[0;31mTypeError\u001b[0m                                 Traceback (most recent call last)",
      "\u001b[0;32m<ipython-input-10-fffc52f00be3>\u001b[0m in \u001b[0;36m<module>\u001b[0;34m\u001b[0m\n\u001b[1;32m      1\u001b[0m \u001b[0mnumero\u001b[0m\u001b[0;34m=\u001b[0m\u001b[0;36m19\u001b[0m\u001b[0;34m\u001b[0m\u001b[0;34m\u001b[0m\u001b[0m\n\u001b[1;32m      2\u001b[0m \u001b[0;34m\u001b[0m\u001b[0m\n\u001b[0;32m----> 3\u001b[0;31m \u001b[0;32mfor\u001b[0m \u001b[0mj\u001b[0m \u001b[0;32min\u001b[0m \u001b[0mnumero\u001b[0m\u001b[0;34m:\u001b[0m\u001b[0;34m\u001b[0m\u001b[0;34m\u001b[0m\u001b[0m\n\u001b[0m\u001b[1;32m      4\u001b[0m     \u001b[0mprint\u001b[0m\u001b[0;34m(\u001b[0m\u001b[0mj\u001b[0m\u001b[0;34m)\u001b[0m\u001b[0;34m\u001b[0m\u001b[0;34m\u001b[0m\u001b[0m\n",
      "\u001b[0;31mTypeError\u001b[0m: 'int' object is not iterable"
     ]
    }
   ],
   "source": [
    "numero=19\n",
    "\n",
    "for j in numero:\n",
    "    print(j)"
   ]
  },
  {
   "cell_type": "code",
   "execution_count": 11,
   "metadata": {},
   "outputs": [
    {
     "name": "stdout",
     "output_type": "stream",
     "text": [
      "1\n",
      "2\n",
      "3\n",
      "4\n",
      "5\n",
      "6\n",
      "7\n",
      "8\n",
      "9\n",
      "10\n"
     ]
    }
   ],
   "source": [
    "limite=10\n",
    "for i in range(1,limite+1):\n",
    "    print(i)"
   ]
  },
  {
   "cell_type": "code",
   "execution_count": 12,
   "metadata": {},
   "outputs": [
    {
     "name": "stdout",
     "output_type": "stream",
     "text": [
      "0\n",
      "1\n",
      "2\n",
      "3\n"
     ]
    }
   ],
   "source": [
    "for i in range(4):\n",
    "    print(i)"
   ]
  },
  {
   "cell_type": "code",
   "execution_count": 13,
   "metadata": {},
   "outputs": [
    {
     "name": "stdout",
     "output_type": "stream",
     "text": [
      "computación\n",
      "científica\n",
      "con\n",
      "Python\n",
      "** Python\n"
     ]
    }
   ],
   "source": [
    "for palabra in [\"computación\", \"científica\", \"con\", \"Python\"]:\n",
    "    print(palabra)\n",
    "    \n",
    "print('**',palabra)"
   ]
  },
  {
   "cell_type": "code",
   "execution_count": 14,
   "metadata": {},
   "outputs": [
    {
     "name": "stdout",
     "output_type": "stream",
     "text": [
      "[0, 1, 2, 3, 4, 100, 25, 38]\n",
      "0\n",
      "1\n",
      "4\n",
      "9\n",
      "16\n",
      "10000\n",
      "625\n",
      "1444\n",
      "** 1444\n"
     ]
    }
   ],
   "source": [
    "p=[0,1,2,3,4,100,25,38]\n",
    "print(p)\n",
    "#programa que eleva al cuadrado cada elemento de p\n",
    "#1. armar un ciclo para acceder a cada elemento p \n",
    "for w in p:\n",
    "    #print(w**2)\n",
    "    f=w**2\n",
    "    print(f)\n",
    "    \n",
    "print('**',f)"
   ]
  },
  {
   "cell_type": "code",
   "execution_count": 15,
   "metadata": {},
   "outputs": [
    {
     "name": "stdout",
     "output_type": "stream",
     "text": [
      "cuadrado de 0 es: 0\n",
      "cuadrado de 1 es: 1\n",
      "cuadrado de 2 es: 4\n",
      "cuadrado de 3 es: 9\n",
      "cuadrado de 4 es: 16\n",
      "cuadrado de 5 es: 25\n",
      "cuadrado de 6 es: 36\n",
      "cuadrado de 7 es: 49\n",
      "cuadrado de 8 es: 64\n",
      "cuadrado de 9 es: 81\n"
     ]
    }
   ],
   "source": [
    "for t in range(0,10):\n",
    "    print('cuadrado de',t,'es:',t**2)\n",
    "    "
   ]
  },
  {
   "cell_type": "code",
   "execution_count": 16,
   "metadata": {},
   "outputs": [
    {
     "name": "stdout",
     "output_type": "stream",
     "text": [
      "letra actual: P\n",
      "letra actual: y\n",
      "letra actual: t\n",
      "letra actual: h\n",
      "letra actual: o\n",
      "letra actual: n\n"
     ]
    }
   ],
   "source": [
    "for letter in 'Python':\n",
    "    print('letra actual:',letter)"
   ]
  },
  {
   "cell_type": "code",
   "execution_count": null,
   "metadata": {},
   "outputs": [],
   "source": []
  },
  {
   "cell_type": "code",
   "execution_count": null,
   "metadata": {},
   "outputs": [],
   "source": []
  }
 ],
 "metadata": {
  "kernelspec": {
   "display_name": "Python 3",
   "language": "python",
   "name": "python3"
  },
  "language_info": {
   "codemirror_mode": {
    "name": "ipython",
    "version": 3
   },
   "file_extension": ".py",
   "mimetype": "text/x-python",
   "name": "python",
   "nbconvert_exporter": "python",
   "pygments_lexer": "ipython3",
   "version": "3.6.8"
  }
 },
 "nbformat": 4,
 "nbformat_minor": 4
}
