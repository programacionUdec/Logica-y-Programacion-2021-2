{
 "cells": [
  {
   "cell_type": "code",
   "execution_count": 4,
   "metadata": {},
   "outputs": [
    {
     "name": "stdout",
     "output_type": "stream",
     "text": [
      "el valor absoluto de los numeros de su lista es: [  2   1 100   3   4]\n"
     ]
    },
    {
     "data": {
      "text/plain": [
       "array([  2,   1, 100,   3,   4])"
      ]
     },
     "execution_count": 4,
     "metadata": {},
     "output_type": "execute_result"
    }
   ],
   "source": [
    "import numpy as np\n",
    "\n",
    "def absoluto(a):\n",
    "    cero=a[0]\n",
    "    for i in a:\n",
    "        if i==0:\n",
    "            cero=0\n",
    "            a=cero\n",
    "            print('hay un cero en la lista',a)\n",
    "        \n",
    "        if i>0:\n",
    "            a=np.abs(a)\n",
    "            print('el valor absoluto de los numeros de su lista es:',a)\n",
    "    \n",
    "            \n",
    "    return a\n",
    "\n",
    "absoluto([-2,-1,100,-3,-4])"
   ]
  },
  {
   "cell_type": "code",
   "execution_count": 5,
   "metadata": {},
   "outputs": [
    {
     "name": "stdout",
     "output_type": "stream",
     "text": [
      "el valor absoluto de los numeros de su lista es: [ 40   1 100   3   4]\n",
      "el valor absoluto de los numeros de su lista es: [ 40   1 100   3   4]\n"
     ]
    },
    {
     "data": {
      "text/plain": [
       "array([ 40,   1, 100,   3,   4])"
      ]
     },
     "execution_count": 5,
     "metadata": {},
     "output_type": "execute_result"
    }
   ],
   "source": [
    "absoluto([40,-1,100,-3,-4])"
   ]
  },
  {
   "cell_type": "code",
   "execution_count": 19,
   "metadata": {},
   "outputs": [],
   "source": [
    "#6\n",
    "\n",
    "x=np.arange(-10,101)\n",
    "y=x+4\n",
    "guarda=np.savetxt('./archivo.txt',np.c_[x , y],fmt='%d %6.2f',header='x y')"
   ]
  },
  {
   "cell_type": "code",
   "execution_count": 14,
   "metadata": {},
   "outputs": [
    {
     "data": {
      "image/png": "[encoded data removed]",
      "text/plain": [
       "<Figure size 432x288 with 1 Axes>"
      ]
     },
     "metadata": {
      "needs_background": "light"
     },
     "output_type": "display_data"
    }
   ],
   "source": [
    "import matplotlib.pyplot as plt\n",
    "\n",
    "plt.plot(x,y,marker='*')\n",
    "plt.xlabel('algo x')\n",
    "plt.ylabel('algo y')\n",
    "plt.title('título')\n",
    "plt.show()"
   ]
  },
  {
   "cell_type": "code",
   "execution_count": 21,
   "metadata": {},
   "outputs": [
    {
     "name": "stdout",
     "output_type": "stream",
     "text": [
      "30\n"
     ]
    }
   ],
   "source": [
    "notas=np.loadtxt('/Users/usuario-mac/Desktop/CLASES/2021-2/Logica/Taller/Taller3/notas.txt')\n",
    "\n",
    "print(len(notas))"
   ]
  },
  {
   "cell_type": "code",
   "execution_count": 25,
   "metadata": {},
   "outputs": [
    {
     "name": "stdout",
     "output_type": "stream",
     "text": [
      "[2.65067408 2.24835999 2.11525468 1.15187417 1.38410963 1.60219243\n",
      " 2.37287603 3.22294382 1.63482603 2.48223964 3.2482003  2.89074182\n",
      " 3.18589701 2.91928659 3.61225537 2.37816004 1.69564547 1.70002475\n",
      " 4.17723333 1.5513723  2.31728768 3.09680522 0.47315431 2.64879375\n",
      " 3.5249141  3.00586743 3.41661902 1.81905688 3.21238504 3.66675349]\n"
     ]
    }
   ],
   "source": [
    "C1=notas[:,0]\n",
    "C2=notas[:,1]\n",
    "C3=notas[:,2]\n",
    "\n",
    "Auto=(C1+C2+C3)/3\n",
    "Co=(C1+C2+C3)/3\n",
    "\n",
    "final= (C1*0.24) + (C2*0.24) + (C3*0.32) + (Auto*0.1) + (Co*0.1)\n",
    "\n",
    "print(final)"
   ]
  },
  {
   "cell_type": "code",
   "execution_count": 33,
   "metadata": {},
   "outputs": [
    {
     "name": "stdout",
     "output_type": "stream",
     "text": [
      "[ True  True  True  True  True  True  True  True  True  True  True] 11 [3.22294382 3.2482003  3.18589701 3.61225537 4.17723333 3.09680522\n",
      " 3.5249141  3.00586743 3.41661902 3.21238504 3.66675349] [ 7 10 12 14 18 21 24 25 26 28 29]\n"
     ]
    }
   ],
   "source": [
    "ID=np.arange(0,len(notas))\n",
    "\n",
    "jj= final >3.0\n",
    "\n",
    "print(jj[jj],len(jj[jj]),final[jj],ID[jj])"
   ]
  },
  {
   "cell_type": "code",
   "execution_count": null,
   "metadata": {},
   "outputs": [],
   "source": []
  }
 ],
 "metadata": {
  "kernelspec": {
   "display_name": "Python 3",
   "language": "python",
   "name": "python3"
  },
  "language_info": {
   "codemirror_mode": {
    "name": "ipython",
    "version": 3
   },
   "file_extension": ".py",
   "mimetype": "text/x-python",
   "name": "python",
   "nbconvert_exporter": "python",
   "pygments_lexer": "ipython3",
   "version": "3.6.8"
  }
 },
 "nbformat": 4,
 "nbformat_minor": 4
}
