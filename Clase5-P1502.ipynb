{
 "cells": [
  {
   "cell_type": "code",
   "execution_count": 1,
   "metadata": {},
   "outputs": [],
   "source": [
    "#Programa: ciclo_for.ipynb \n",
    "#autor: miembros del grupo de trabajo\n",
    "#Objetivo del programa: segunda parte del Programa para entender funcionamiento del ciclo for\n",
    "#fecha de creación: "
   ]
  },
  {
   "cell_type": "code",
   "execution_count": 2,
   "metadata": {},
   "outputs": [
    {
     "data": {
      "text/plain": [
       "0.21487361533922067"
      ]
     },
     "execution_count": 2,
     "metadata": {},
     "output_type": "execute_result"
    }
   ],
   "source": [
    "import random\n",
    "\n",
    "random.random() #genera un numero 'aleatorio'"
   ]
  },
  {
   "cell_type": "code",
   "execution_count": 3,
   "metadata": {},
   "outputs": [
    {
     "data": {
      "text/plain": [
       "56"
      ]
     },
     "execution_count": 3,
     "metadata": {},
     "output_type": "execute_result"
    }
   ],
   "source": [
    "random.randint(-100,100) #numeros aleatorios entre -100 y 100"
   ]
  },
  {
   "cell_type": "code",
   "execution_count": 4,
   "metadata": {},
   "outputs": [
    {
     "data": {
      "text/plain": [
       "25"
      ]
     },
     "execution_count": 4,
     "metadata": {},
     "output_type": "execute_result"
    }
   ],
   "source": [
    "lista=[10,34,7,25,67] #puedo crear una lista de numeros y elegir numeros aleatorios unicamente de la lista\n",
    "random.choice(lista)"
   ]
  },
  {
   "cell_type": "code",
   "execution_count": 5,
   "metadata": {},
   "outputs": [
    {
     "data": {
      "text/plain": [
       "'Maritza'"
      ]
     },
     "execution_count": 5,
     "metadata": {},
     "output_type": "execute_result"
    }
   ],
   "source": [
    "lista2=['Maritza','Juliana','Maria Alejandra','Karol']\n",
    "\n",
    "random.choice(lista2)"
   ]
  },
  {
   "cell_type": "code",
   "execution_count": 6,
   "metadata": {},
   "outputs": [
    {
     "name": "stdout",
     "output_type": "stream",
     "text": [
      "False\n",
      "False\n",
      "True\n",
      "True\n"
     ]
    }
   ],
   "source": [
    "#operador in: devuelve True si un elemento se encuentra dentro de otro (en este caso la lista a).\n",
    "\n",
    "a = [3, 4,8,0,'Hola']\n",
    "print(9 in a)\n",
    "print(9==a)\n",
    "print(9!=a)\n",
    "print('Hola' in a)\n"
   ]
  },
  {
   "cell_type": "code",
   "execution_count": 7,
   "metadata": {},
   "outputs": [
    {
     "name": "stdout",
     "output_type": "stream",
     "text": [
      "[8, 9, 10, 11, 12, 13, 14, 15, 16, 17, 18, 19]\n",
      "False\n",
      "True\n",
      "12\n"
     ]
    }
   ],
   "source": [
    "b=list(range(8,20))\n",
    "print(b)\n",
    "print(1 in b)\n",
    "print(10 in b)\n",
    "print(len(b))"
   ]
  },
  {
   "cell_type": "code",
   "execution_count": 8,
   "metadata": {},
   "outputs": [
    {
     "name": "stdout",
     "output_type": "stream",
     "text": [
      "con indentanción (dentro del ciclo for): 1\n",
      "con indentanción (dentro del ciclo for): 2\n",
      "con indentanción (dentro del ciclo for): 3\n",
      "con indentanción (dentro del ciclo for): Hola\n",
      "sin indentación: Hola\n"
     ]
    }
   ],
   "source": [
    "#ciclos for usan objetos iterables (que tengan indices)\n",
    "H=[1,2,3,'Hola']\n",
    "#print(len(H))\n",
    "    \n",
    "for x in H:\n",
    "    #print(H)\n",
    "    print('con indentanción (dentro del ciclo for):',x)\n",
    "\n",
    "print('sin indentación:',x)\n",
    "    \n"
   ]
  },
  {
   "cell_type": "code",
   "execution_count": 9,
   "metadata": {},
   "outputs": [
    {
     "name": "stdout",
     "output_type": "stream",
     "text": [
      "1\n",
      "2\n",
      "3\n",
      "Hola\n"
     ]
    }
   ],
   "source": [
    "for x in(range(len(H))):\n",
    "    print(H[x])"
   ]
  },
  {
   "cell_type": "code",
   "execution_count": 10,
   "metadata": {},
   "outputs": [
    {
     "name": "stdout",
     "output_type": "stream",
     "text": [
      "1\n",
      "3\n",
      "5\n",
      "7\n",
      "9\n"
     ]
    }
   ],
   "source": [
    "limite=10\n",
    "for i in range(1,limite+1,2):\n",
    "    print(i)"
   ]
  },
  {
   "cell_type": "code",
   "execution_count": 11,
   "metadata": {},
   "outputs": [
    {
     "name": "stdout",
     "output_type": "stream",
     "text": [
      "0\n",
      "1\n",
      "2\n",
      "3\n"
     ]
    }
   ],
   "source": [
    "for i in range(4):\n",
    "    print(i)"
   ]
  },
  {
   "cell_type": "code",
   "execution_count": 12,
   "metadata": {},
   "outputs": [
    {
     "name": "stdout",
     "output_type": "stream",
     "text": [
      "computación\n",
      "científica\n",
      "con\n",
      "Python\n",
      "** Python\n"
     ]
    }
   ],
   "source": [
    "for palabra in [\"computación\", \"científica\", \"con\", \"Python\"]:\n",
    "    print(palabra)\n",
    "\n",
    "print('**',palabra)"
   ]
  },
  {
   "cell_type": "code",
   "execution_count": 13,
   "metadata": {},
   "outputs": [
    {
     "name": "stdout",
     "output_type": "stream",
     "text": [
      "[0, 1, 2, 3, 4, 100, 25, 38, 0, 1, 2, 3, 4, 100, 25, 38]\n",
      "0\n",
      "1\n",
      "4\n",
      "9\n",
      "16\n",
      "10000\n",
      "625\n",
      "1444\n",
      "* 1444\n"
     ]
    }
   ],
   "source": [
    "p=[0,1,2,3,4,100,25,38]\n",
    "p2=p*2\n",
    "\n",
    "print(p2)\n",
    "\n",
    "for n in p:\n",
    "    s=n**2\n",
    "    #print(n*2)\n",
    "    print(s)\n",
    "    \n",
    "print('*',s)"
   ]
  },
  {
   "cell_type": "code",
   "execution_count": 14,
   "metadata": {},
   "outputs": [
    {
     "name": "stdout",
     "output_type": "stream",
     "text": [
      "cuadrado de 0 es: 0\n",
      "cuadrado de 1 es: 1\n",
      "cuadrado de 2 es: 4\n",
      "cuadrado de 3 es: 9\n",
      "cuadrado de 4 es: 16\n",
      "cuadrado de 5 es: 25\n",
      "cuadrado de 6 es: 36\n",
      "cuadrado de 7 es: 49\n",
      "cuadrado de 8 es: 64\n",
      "cuadrado de 9 es: 81\n"
     ]
    }
   ],
   "source": [
    "for t in range(0,10):\n",
    "    print('cuadrado de',t,'es:',t**2)\n",
    "    "
   ]
  },
  {
   "cell_type": "code",
   "execution_count": 15,
   "metadata": {},
   "outputs": [
    {
     "name": "stdout",
     "output_type": "stream",
     "text": [
      "letra actual: P\n",
      "letra actual: y\n",
      "letra actual: t\n",
      "letra actual: h\n",
      "letra actual: o\n",
      "letra actual: n\n"
     ]
    }
   ],
   "source": [
    "#cada vez que recorremos el bucle(ciclo for), se le asigna a la variable letter\n",
    "#el siguiente caracter de la cadena hasta que no queden mas caracteres\n",
    "\n",
    "for letter in 'Python':\n",
    "    print('letra actual:',letter)\n",
    "    "
   ]
  },
  {
   "cell_type": "code",
   "execution_count": 16,
   "metadata": {},
   "outputs": [
    {
     "ename": "TypeError",
     "evalue": "'int' object is not iterable",
     "output_type": "error",
     "traceback": [
      "\u001b[0;31m---------------------------------------------------------------------------\u001b[0m",
      "\u001b[0;31mTypeError\u001b[0m                                 Traceback (most recent call last)",
      "\u001b[0;32m<ipython-input-16-87cce358bb99>\u001b[0m in \u001b[0;36m<module>\u001b[0;34m\u001b[0m\n\u001b[0;32m----> 1\u001b[0;31m \u001b[0;32mfor\u001b[0m \u001b[0ml\u001b[0m \u001b[0;32min\u001b[0m \u001b[0;36m1\u001b[0m\u001b[0;34m:\u001b[0m\u001b[0;34m\u001b[0m\u001b[0;34m\u001b[0m\u001b[0m\n\u001b[0m\u001b[1;32m      2\u001b[0m     \u001b[0mprint\u001b[0m\u001b[0;34m(\u001b[0m\u001b[0ml\u001b[0m\u001b[0;34m)\u001b[0m\u001b[0;34m\u001b[0m\u001b[0;34m\u001b[0m\u001b[0m\n",
      "\u001b[0;31mTypeError\u001b[0m: 'int' object is not iterable"
     ]
    }
   ],
   "source": [
    "for l in 1:\n",
    "    print(l)"
   ]
  },
  {
   "cell_type": "code",
   "execution_count": null,
   "metadata": {},
   "outputs": [],
   "source": []
  }
 ],
 "metadata": {
  "kernelspec": {
   "display_name": "Python 3",
   "language": "python",
   "name": "python3"
  },
  "language_info": {
   "codemirror_mode": {
    "name": "ipython",
    "version": 3
   },
   "file_extension": ".py",
   "mimetype": "text/x-python",
   "name": "python",
   "nbconvert_exporter": "python",
   "pygments_lexer": "ipython3",
   "version": "3.6.8"
  }
 },
 "nbformat": 4,
 "nbformat_minor": 4
}
