{
 "cells": [
  {
   "cell_type": "code",
   "execution_count": 3,
   "metadata": {},
   "outputs": [
    {
     "name": "stdout",
     "output_type": "stream",
     "text": [
      "Ingresa un numero entero y calcularemos las potencias de 2\n"
     ]
    },
    {
     "name": "stdin",
     "output_type": "stream",
     "text": [
      " 9\n"
     ]
    },
    {
     "name": "stdout",
     "output_type": "stream",
     "text": [
      "el numero 9 elevando a la potencia 2 es: 81\n"
     ]
    }
   ],
   "source": [
    "print('Ingresa un numero entero y calcularemos las potencias de 2')\n",
    "numero=int(input())\n",
    "\n",
    "print('el numero',numero,'elevando a la potencia 2 es:',numero**2 )"
   ]
  },
  {
   "cell_type": "code",
   "execution_count": 5,
   "metadata": {},
   "outputs": [],
   "source": [
    "#dados dos numeros por el usuario, el numero1 representa la altura y el numero2 representa la base de un \n",
    "#rectangulo, el programa debe calcular el área de ese rectangulo, area=base*altura\n",
    "#1. Digitar lo q necesito, una variable para la base y otra variable para la altura (con función input())\n",
    "#2. Definir una variable para el area=base*altura\n",
    "#3. imprimir los resultados"
   ]
  },
  {
   "cell_type": "code",
   "execution_count": 7,
   "metadata": {},
   "outputs": [
    {
     "name": "stdout",
     "output_type": "stream",
     "text": [
      "Este programa recibe dos numeros para calcular el área de un rectangulo \n",
      "\n",
      "Ingrese el valor de la altura\n"
     ]
    },
    {
     "name": "stdin",
     "output_type": "stream",
     "text": [
      " 1.8\n"
     ]
    },
    {
     "name": "stdout",
     "output_type": "stream",
     "text": [
      "Ingrese el valor de la base\n"
     ]
    },
    {
     "name": "stdin",
     "output_type": "stream",
     "text": [
      " 26\n"
     ]
    },
    {
     "name": "stdout",
     "output_type": "stream",
     "text": [
      "la base del rectangulo es: 26.0 \n",
      " la altura del rectangulo es: 1.8 \n",
      " el área del rectagulo es: 46.800000000000004\n"
     ]
    }
   ],
   "source": [
    "print('Este programa recibe dos numeros para calcular el área de un rectangulo \\n')\n",
    "print('Ingrese el valor de la altura')\n",
    "altura=float(input())\n",
    "print('Ingrese el valor de la base')\n",
    "base=float(input())\n",
    "\n",
    "area=base*altura\n",
    "\n",
    "print('la base del rectangulo es:',base,'\\n', 'la altura del rectangulo es:',altura,'\\n','el área del rectagulo es:',area)"
   ]
  },
  {
   "cell_type": "code",
   "execution_count": 11,
   "metadata": {},
   "outputs": [
    {
     "name": "stdout",
     "output_type": "stream",
     "text": [
      "Ingresa un numero entero y calcularemos la potencias de 3\n"
     ]
    },
    {
     "name": "stdin",
     "output_type": "stream",
     "text": [
      " 5\n"
     ]
    },
    {
     "name": "stdout",
     "output_type": "stream",
     "text": [
      "el numero 5 elevando a la potencia 3 es: 125\n"
     ]
    }
   ],
   "source": [
    "#salidas con formato\n",
    "print('Ingresa un numero entero y calcularemos la potencias de 3')\n",
    "numero2=int(input())\n",
    "\n",
    "print('el numero',numero2,'elevando a la potencia 3 es:',numero2**3 )"
   ]
  },
  {
   "cell_type": "code",
   "execution_count": 12,
   "metadata": {},
   "outputs": [
    {
     "name": "stdout",
     "output_type": "stream",
     "text": [
      "el numero 5 elevado 3 es 125\n"
     ]
    }
   ],
   "source": [
    "print('el numero %d elevado %d es %d'%(numero2,3,numero2**3))"
   ]
  },
  {
   "cell_type": "code",
   "execution_count": 14,
   "metadata": {},
   "outputs": [
    {
     "name": "stdout",
     "output_type": "stream",
     "text": [
      "el numero       5.00 elevado 3 es 125.000000\n"
     ]
    }
   ],
   "source": [
    "print('el numero %10.2f elevado %d es %f'%(numero2,3,numero2**3))"
   ]
  },
  {
   "cell_type": "code",
   "execution_count": 20,
   "metadata": {},
   "outputs": [
    {
     "name": "stdout",
     "output_type": "stream",
     "text": [
      "el numero       5.000e+00 elevado 3 es 125.000000\n"
     ]
    }
   ],
   "source": [
    "print('el numero %15.3e elevado %d es %f'%(numero2,3,numero2**3))"
   ]
  },
  {
   "cell_type": "code",
   "execution_count": null,
   "metadata": {},
   "outputs": [],
   "source": []
  }
 ],
 "metadata": {
  "kernelspec": {
   "display_name": "Python 3",
   "language": "python",
   "name": "python3"
  },
  "language_info": {
   "codemirror_mode": {
    "name": "ipython",
    "version": 3
   },
   "file_extension": ".py",
   "mimetype": "text/x-python",
   "name": "python",
   "nbconvert_exporter": "python",
   "pygments_lexer": "ipython3",
   "version": "3.6.8"
  }
 },
 "nbformat": 4,
 "nbformat_minor": 4
}
