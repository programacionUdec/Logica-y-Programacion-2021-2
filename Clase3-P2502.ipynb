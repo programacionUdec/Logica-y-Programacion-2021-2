{
 "cells": [
  {
   "cell_type": "code",
   "execution_count": 2,
   "metadata": {},
   "outputs": [],
   "source": [
    "#Programa: listas.ipynb Nombre del programa\n",
    "#autor: miembros del grupo de trabajo-grupo (501-502)\n",
    "#Objetivo del programa: entender listas y metodos con listas\n",
    "#Creado: miercoles 22 de septimebre de 2021\n",
    "\n",
    "#https://github.com/gfrubi/clases-python-cientifico/blob/master/Lecture-1-Introduction-to-Python-Programming.ipynb"
   ]
  },
  {
   "cell_type": "code",
   "execution_count": 8,
   "metadata": {},
   "outputs": [
    {
     "name": "stdout",
     "output_type": "stream",
     "text": [
      "<class 'str'>\n",
      "Hola Mundo :)\n"
     ]
    }
   ],
   "source": [
    "#Las cadenas almacenan textos\n",
    "s='Hola Mundo :)'\n",
    "\n",
    "print(type(s))\n",
    "print(s)"
   ]
  },
  {
   "cell_type": "code",
   "execution_count": 5,
   "metadata": {},
   "outputs": [
    {
     "data": {
      "text/plain": [
       "13"
      ]
     },
     "execution_count": 5,
     "metadata": {},
     "output_type": "execute_result"
    }
   ],
   "source": [
    "len(s) #longitud de la variable s"
   ]
  },
  {
   "cell_type": "code",
   "execution_count": 13,
   "metadata": {},
   "outputs": [
    {
     "name": "stdout",
     "output_type": "stream",
     "text": [
      "H\n",
      "a\n",
      ")\n",
      ":\n",
      "Hola \n",
      "la Mu\n",
      "Hola Mundo :)\n"
     ]
    }
   ],
   "source": [
    "#Acceder a los elementos de la variable: Slice o rebanda de una cadena [desde:hasta]\n",
    "print(s[0])\n",
    "print(s[3])\n",
    "print(s[-1])\n",
    "print(s[-2])\n",
    "print(s[0:5]) #no incluye el extremo superior\n",
    "print(s[2:7]) \n",
    "print(s[:])  #incluye toda la cadena"
   ]
  },
  {
   "cell_type": "code",
   "execution_count": 18,
   "metadata": {},
   "outputs": [
    {
     "name": "stdout",
     "output_type": "stream",
     "text": [
      "Hola Mundo :)\n",
      "Hl ud )\n",
      "Hauo)\n",
      "oa\n"
     ]
    }
   ],
   "source": [
    "#definiendo el paso [Inicio:Final:paso], por defecto el paso es 1 Slicing\n",
    "print(s[::1])\n",
    "print(s[::2])\n",
    "print(s[::3])\n",
    "print(s[1:5:2])"
   ]
  },
  {
   "cell_type": "code",
   "execution_count": 25,
   "metadata": {},
   "outputs": [
    {
     "name": "stdout",
     "output_type": "stream",
     "text": [
      "[1, 2, 3, 4]\n",
      "<class 'list'>\n",
      "4\n",
      "1\n",
      "10\n",
      "[1, 2, 3]\n"
     ]
    }
   ],
   "source": [
    "#LISTAS: cada elemento puede ser de diferente tipo:\n",
    "\n",
    "l = [1,2,3,4] #para definir una lista debo utilizar[]\n",
    "print(l)\n",
    "print(type(l))\n",
    "print(len(l))\n",
    "print(min(l))\n",
    "print(sum(l))\n",
    "print(l[0:3])"
   ]
  },
  {
   "cell_type": "code",
   "execution_count": 27,
   "metadata": {},
   "outputs": [
    {
     "name": "stdout",
     "output_type": "stream",
     "text": [
      "Karol\n",
      "[1, 'a', 1.0, 'Karol']\n"
     ]
    }
   ],
   "source": [
    "#Los elementos de las listas pueden ser de diferente tipo\n",
    "H = [1, 'a', 1.0, 'Karol']\n",
    "print(H[-1])\n",
    "print(H)"
   ]
  },
  {
   "cell_type": "code",
   "execution_count": null,
   "metadata": {},
   "outputs": [],
   "source": []
  }
 ],
 "metadata": {
  "kernelspec": {
   "display_name": "Python 3",
   "language": "python",
   "name": "python3"
  },
  "language_info": {
   "codemirror_mode": {
    "name": "ipython",
    "version": 3
   },
   "file_extension": ".py",
   "mimetype": "text/x-python",
   "name": "python",
   "nbconvert_exporter": "python",
   "pygments_lexer": "ipython3",
   "version": "3.6.8"
  }
 },
 "nbformat": 4,
 "nbformat_minor": 4
}
