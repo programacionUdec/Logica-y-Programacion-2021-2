{
 "cells": [
  {
   "cell_type": "code",
   "execution_count": 1,
   "metadata": {},
   "outputs": [],
   "source": [
    "#Programa: listas.ipynb (Nombre del programa)\n",
    "#autor: miembros del grupo de trabajo-grupo (501-502)\n",
    "#Objetivo del programa: entender listas y metodos con listas\n",
    "#Creado: miercoles 06 de octubre de 2021\n",
    "\n",
    "#https://github.com/gfrubi/clases-python-cientifico/blob/master/Lecture-1-Introduction-to-Python-Programming.ipynb"
   ]
  },
  {
   "cell_type": "code",
   "execution_count": 2,
   "metadata": {},
   "outputs": [
    {
     "name": "stdout",
     "output_type": "stream",
     "text": [
      "<class 'str'>\n"
     ]
    }
   ],
   "source": [
    "s='Hola Mundo'\n",
    "\n",
    "print(type(s))"
   ]
  },
  {
   "cell_type": "code",
   "execution_count": 3,
   "metadata": {},
   "outputs": [
    {
     "name": "stdout",
     "output_type": "stream",
     "text": [
      "[1, 'a', 1.0, 'juan']\n"
     ]
    }
   ],
   "source": [
    "H=[1,'a',1.0,'juan']\n",
    "\n",
    "print(H)"
   ]
  },
  {
   "cell_type": "code",
   "execution_count": 4,
   "metadata": {},
   "outputs": [
    {
     "data": {
      "text/plain": [
       "[0, 1, 2, 3, 4]"
      ]
     },
     "execution_count": 4,
     "metadata": {},
     "output_type": "execute_result"
    }
   ],
   "source": [
    "list(range(5))"
   ]
  },
  {
   "cell_type": "code",
   "execution_count": 5,
   "metadata": {},
   "outputs": [
    {
     "data": {
      "text/plain": [
       "[0, 2, 4]"
      ]
     },
     "execution_count": 5,
     "metadata": {},
     "output_type": "execute_result"
    }
   ],
   "source": [
    "list(range(0,5,2))"
   ]
  },
  {
   "cell_type": "code",
   "execution_count": 6,
   "metadata": {},
   "outputs": [
    {
     "name": "stdout",
     "output_type": "stream",
     "text": [
      "[2, 0, -2, -4, -6, -8, -10, -12]\n",
      "otra forma [2, 0, -2, -4, -6, -8, -10, -12] 8\n"
     ]
    }
   ],
   "source": [
    "desde=2\n",
    "fin=-14\n",
    "paso=-2\n",
    "\n",
    "j=list(range(desde,fin,paso))\n",
    "print(j)\n",
    "\n",
    "print('otra forma',list(range(desde,fin,paso)),len(j))"
   ]
  },
  {
   "cell_type": "code",
   "execution_count": 7,
   "metadata": {},
   "outputs": [
    {
     "name": "stdout",
     "output_type": "stream",
     "text": [
      "[-10, -9, -8, -7, -6, -5, -4, -3, -2, -1, 0, 1, 2, 3, 4, 5, 6, 7, 8, 9]\n"
     ]
    }
   ],
   "source": [
    "print(list(range(-10,10)))"
   ]
  },
  {
   "cell_type": "code",
   "execution_count": 8,
   "metadata": {},
   "outputs": [
    {
     "name": "stdout",
     "output_type": "stream",
     "text": [
      "<class 'str'>\n",
      "Hola Mundo 10\n"
     ]
    }
   ],
   "source": [
    "s='Hola Mundo'\n",
    "print(type(s))\n",
    "print(s,len(s))"
   ]
  },
  {
   "cell_type": "code",
   "execution_count": 9,
   "metadata": {},
   "outputs": [
    {
     "name": "stdout",
     "output_type": "stream",
     "text": [
      "['H', 'o', 'l', 'a', ' ', 'M', 'u', 'n', 'd', 'o'] 10\n",
      "<class 'list'>\n"
     ]
    }
   ],
   "source": [
    "n=list(s)\n",
    "\n",
    "print(n,len(n))\n",
    "print(type(n))"
   ]
  },
  {
   "cell_type": "code",
   "execution_count": 10,
   "metadata": {},
   "outputs": [
    {
     "name": "stdout",
     "output_type": "stream",
     "text": [
      "[[1, 2, 3, 4], [5, 6, 7, 8], [9, 10, 11, 12]]\n",
      "[1, 2, 3, 4]\n",
      "* [[5, 6, 7, 8], [9, 10, 11, 12]]\n",
      "3\n"
     ]
    }
   ],
   "source": [
    "matrix = [\n",
    "    [1, 2, 3, 4],\n",
    "     [5, 6, 7, 8],\n",
    "     [9, 10, 11, 12],\n",
    "]\n",
    "\n",
    "print(matrix)\n",
    "print(matrix[0])\n",
    "print('*',matrix[1:3])\n",
    "print(len(matrix))"
   ]
  },
  {
   "cell_type": "code",
   "execution_count": 11,
   "metadata": {},
   "outputs": [
    {
     "name": "stdout",
     "output_type": "stream",
     "text": [
      "['H', 'o', 'l', 'a', ' ', 'M', 'u', 'n', 'd', 'o']\n",
      "[' ', 'H', 'M', 'a', 'd', 'l', 'n', 'o', 'o', 'u']\n"
     ]
    }
   ],
   "source": [
    "print(n)\n",
    "n.sort()\n",
    "print(n)"
   ]
  },
  {
   "cell_type": "code",
   "execution_count": 12,
   "metadata": {},
   "outputs": [
    {
     "name": "stdout",
     "output_type": "stream",
     "text": [
      "[-1, 0, 1, 4, 6, 9, 9, 34.8]\n"
     ]
    }
   ],
   "source": [
    "f=[4,9,6,1,34.8,-1,9,0]\n",
    "f.sort(reverse=False) #por defecto reverse=False, ordenar de menor a mayor\n",
    "print(f)"
   ]
  },
  {
   "cell_type": "code",
   "execution_count": 13,
   "metadata": {},
   "outputs": [
    {
     "name": "stdout",
     "output_type": "stream",
     "text": [
      "[34.8, 9, 9, 6, 4, 1, 0, -1]\n"
     ]
    }
   ],
   "source": [
    "f.sort(reverse=True)# reverse=true, ordenar de mayor a menor\n",
    "\n",
    "print(f)"
   ]
  },
  {
   "cell_type": "code",
   "execution_count": 14,
   "metadata": {},
   "outputs": [
    {
     "name": "stdout",
     "output_type": "stream",
     "text": [
      "34.8\n"
     ]
    }
   ],
   "source": [
    "print(max(f))"
   ]
  },
  {
   "cell_type": "code",
   "execution_count": 15,
   "metadata": {},
   "outputs": [
    {
     "name": "stdout",
     "output_type": "stream",
     "text": [
      "-1\n"
     ]
    }
   ],
   "source": [
    "print(min(f))"
   ]
  },
  {
   "cell_type": "code",
   "execution_count": 16,
   "metadata": {},
   "outputs": [
    {
     "name": "stdout",
     "output_type": "stream",
     "text": [
      "62.8\n"
     ]
    }
   ],
   "source": [
    "print(sum(f))"
   ]
  },
  {
   "cell_type": "code",
   "execution_count": 17,
   "metadata": {},
   "outputs": [
    {
     "name": "stdout",
     "output_type": "stream",
     "text": [
      "<class 'list'> 0 []\n"
     ]
    }
   ],
   "source": [
    "#Puedo modificar, insertar y remover elementos de las listas\n",
    "# crea una nueva lista vacía\n",
    "\n",
    "w=[]\n",
    "\n",
    "print(type(w),len(w),w)"
   ]
  },
  {
   "cell_type": "code",
   "execution_count": 18,
   "metadata": {},
   "outputs": [
    {
     "name": "stdout",
     "output_type": "stream",
     "text": [
      "['A', 'd', 'd'] 3\n"
     ]
    }
   ],
   "source": [
    "#Agregar elementos a la lista w\n",
    "\n",
    "w.append('A')\n",
    "w.append('d')\n",
    "w.append('d')\n",
    "\n",
    "print(w,len(w))"
   ]
  },
  {
   "cell_type": "code",
   "execution_count": 19,
   "metadata": {},
   "outputs": [
    {
     "name": "stdout",
     "output_type": "stream",
     "text": [
      "['A', 'p', 6]\n",
      "['A', 'd', 'd']\n"
     ]
    }
   ],
   "source": [
    "#modificar un elemento especifico de la lista (las listas son mutables)\n",
    "\n",
    "w[1]='p'\n",
    "w[2]=6\n",
    "print(w)\n",
    "\n",
    "w[1:3]=['d','d']\n",
    "print(w)\n"
   ]
  },
  {
   "cell_type": "code",
   "execution_count": 20,
   "metadata": {},
   "outputs": [
    {
     "name": "stdout",
     "output_type": "stream",
     "text": [
      "['i', 'n', 's', 'e', 'r', 't', 10, 1.56, 'A', 'd', 'd']\n"
     ]
    }
   ],
   "source": [
    "w.insert(0,'i')\n",
    "w.insert(1,'n')\n",
    "w.insert(2,'s')\n",
    "w.insert(3,'e')\n",
    "w.insert(4, \"r\")\n",
    "w.insert(5, \"t\")\n",
    "w.insert(6,10)\n",
    "w.insert(7,1.56)\n",
    "\n",
    "print(w)"
   ]
  },
  {
   "cell_type": "code",
   "execution_count": 21,
   "metadata": {},
   "outputs": [
    {
     "name": "stdout",
     "output_type": "stream",
     "text": [
      "['i', 'n', 's', 'e', 'r', 't', 10, 1.56, 'd', 'd']\n"
     ]
    }
   ],
   "source": [
    "w.remove('A')\n",
    "\n",
    "print(w)"
   ]
  },
  {
   "cell_type": "code",
   "execution_count": 22,
   "metadata": {},
   "outputs": [
    {
     "ename": "ValueError",
     "evalue": "list.remove(x): x not in list",
     "output_type": "error",
     "traceback": [
      "\u001b[0;31m---------------------------------------------------------------------------\u001b[0m",
      "\u001b[0;31mValueError\u001b[0m                                Traceback (most recent call last)",
      "\u001b[0;32m<ipython-input-22-f4af5977daa2>\u001b[0m in \u001b[0;36m<module>\u001b[0;34m\u001b[0m\n\u001b[0;32m----> 1\u001b[0;31m \u001b[0mw\u001b[0m\u001b[0;34m.\u001b[0m\u001b[0mremove\u001b[0m\u001b[0;34m(\u001b[0m\u001b[0;34m'z'\u001b[0m\u001b[0;34m)\u001b[0m\u001b[0;34m\u001b[0m\u001b[0;34m\u001b[0m\u001b[0m\n\u001b[0m",
      "\u001b[0;31mValueError\u001b[0m: list.remove(x): x not in list"
     ]
    }
   ],
   "source": [
    "w.remove('z')"
   ]
  },
  {
   "cell_type": "code",
   "execution_count": 23,
   "metadata": {},
   "outputs": [
    {
     "data": {
      "text/plain": [
       "2"
      ]
     },
     "execution_count": 23,
     "metadata": {},
     "output_type": "execute_result"
    }
   ],
   "source": [
    "w.count('d')"
   ]
  },
  {
   "cell_type": "code",
   "execution_count": 24,
   "metadata": {},
   "outputs": [
    {
     "data": {
      "text/plain": [
       "1"
      ]
     },
     "execution_count": 24,
     "metadata": {},
     "output_type": "execute_result"
    }
   ],
   "source": [
    "w.count('r')"
   ]
  },
  {
   "cell_type": "code",
   "execution_count": 25,
   "metadata": {},
   "outputs": [
    {
     "data": {
      "text/plain": [
       "1"
      ]
     },
     "execution_count": 25,
     "metadata": {},
     "output_type": "execute_result"
    }
   ],
   "source": [
    "w.count(10)"
   ]
  },
  {
   "cell_type": "code",
   "execution_count": 26,
   "metadata": {},
   "outputs": [
    {
     "data": {
      "text/plain": [
       "0"
      ]
     },
     "execution_count": 26,
     "metadata": {},
     "output_type": "execute_result"
    }
   ],
   "source": [
    "w.count('z')"
   ]
  },
  {
   "cell_type": "markdown",
   "metadata": {},
   "source": [
    "Tarea:\n",
    "\n",
    "1. Hacer un programa en python que le pida al usuario los lados de un rectangulo y que calcule el area y el perimetro (https://www.youtube.com/watch?v=WpORLGHAfts)\n",
    "\n",
    "2. Hacer un programa en python que le pida al usuario la siguiente información:\n",
    "    Nombre completo\n",
    "    Numero telefonico de contacto \n",
    "    altura (m) y peso (kg)\n",
    "  El programa debe imprimir Nombre de la persona, numero telefonico de contacto *10, calcular el IMC (Indice de masa       corporal) e imprimirlo por pantalla junto con su altura y peso"
   ]
  },
  {
   "cell_type": "code",
   "execution_count": null,
   "metadata": {},
   "outputs": [],
   "source": []
  }
 ],
 "metadata": {
  "kernelspec": {
   "display_name": "Python 3",
   "language": "python",
   "name": "python3"
  },
  "language_info": {
   "codemirror_mode": {
    "name": "ipython",
    "version": 3
   },
   "file_extension": ".py",
   "mimetype": "text/x-python",
   "name": "python",
   "nbconvert_exporter": "python",
   "pygments_lexer": "ipython3",
   "version": "3.6.8"
  }
 },
 "nbformat": 4,
 "nbformat_minor": 4
}
